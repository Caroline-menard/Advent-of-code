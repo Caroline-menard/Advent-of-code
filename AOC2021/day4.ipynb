{
 "cells": [
  {
   "cell_type": "code",
   "execution_count": 1,
   "id": "1bf60f7d-1844-4216-bbe1-a28c39eb5b47",
   "metadata": {},
   "outputs": [],
   "source": [
    "called_number = [18,99,39,89,0,40,52,72,61,77,69,51,30,83,20,65,93,88,29,22\n",
    "                 ,14,82,53,41,76,79,46,78,56,57,24,36,38,11,50,1,19,26,70,4\n",
    "                 ,54,3,84,33,15,21,9,58,64,85,10,66,17,43,31,27,2,5,95,96,16\n",
    "                 ,97,12,34,74,67,86,23,49,8,59,45,68,91,25,48,13,28,81,94,92\n",
    "                 ,42,7,37,75,32,6,60,63,35,62,98,90,47,87,73,44,71,55,80] "
   ]
  },
  {
   "cell_type": "code",
   "execution_count": 2,
   "id": "77907ef5-d938-4549-bf9c-633f1b31e566",
   "metadata": {},
   "outputs": [],
   "source": [
    "with open(\"day4.txt\") as file:\n",
    "    data = file.read().split(\"\\n\\n\")"
   ]
  },
  {
   "cell_type": "code",
   "execution_count": 3,
   "id": "4ec198a6-687f-485f-962c-4da90fdeaa23",
   "metadata": {
    "tags": []
   },
   "outputs": [],
   "source": [
    "boards = []\n",
    "score = {}\n",
    "def strtoint(l):\n",
    "    l2 = [int(i) for i in l]\n",
    "    return l2\n",
    "\n",
    "import numpy as np \n",
    "n = 0\n",
    "for d in data:\n",
    "    board= [i for i in d.split(\"\\n\")]\n",
    "    board = [i.split() for i in board]\n",
    "    board = [strtoint(ligne) for ligne in board]\n",
    "    boards.append(board)\n",
    "    score[str(n)] = {\"unmarked\" : np.array(board).sum(),\"called\" : 0}\n",
    "    n+=1\n",
    "    \n",
    "\n"
   ]
  },
  {
   "cell_type": "code",
   "execution_count": 4,
   "id": "0ff2118b-34c2-40f6-98cc-637cd914abb2",
   "metadata": {
    "tags": []
   },
   "outputs": [
    {
     "name": "stdout",
     "output_type": "stream",
     "text": [
      "BINGO pour la grille n° 60\n",
      "{'unmarked': 439, 'called': 542}\n",
      "SCOre:  25023\n",
      "CPU times: user 80.8 ms, sys: 2.66 ms, total: 83.5 ms\n",
      "Wall time: 82.1 ms\n"
     ]
    }
   ],
   "source": [
    "%%time\n",
    "#part 1\n",
    "def replace_called_num(num,board):\n",
    "    sum_called_num = 0\n",
    "    for ligne in board:\n",
    "        for i in range(len(ligne)):\n",
    "            if ligne[i]==num:\n",
    "                sum_called_num += num\n",
    "                ligne[i] = \"*\"\n",
    "    return sum_called_num , board\n",
    "\n",
    "from collections import Counter\n",
    "\n",
    "def verif_ligne(ligne):\n",
    "    c = Counter(ligne)\n",
    "    if \"*\" in c and c[\"*\"] == len(ligne):\n",
    "        return True\n",
    "    else:\n",
    "        return False\n",
    "\n",
    "\n",
    "def bingo_verif(board):\n",
    "    n = len(board[0])\n",
    "    for ligne in board :\n",
    "        full_star = verif_ligne(ligne)\n",
    "        if full_star:\n",
    "            return True\n",
    "    for i in range(0,n):\n",
    "        col = [ligne[i] for ligne in board]\n",
    "        full_star = verif_ligne(col)\n",
    "        if full_star:\n",
    "            return True\n",
    "        \n",
    "\n",
    "    \n",
    "the_data = boards.copy()             \n",
    "\n",
    "for call in called_number:\n",
    "    for i,board in enumerate(the_data): \n",
    "        n, board = replace_called_num(call,board)\n",
    "        score[str(i)]['unmarked']-=n\n",
    "        score[str(i)]['called']+=n\n",
    "        bingo = bingo_verif(board)\n",
    "        if bingo :\n",
    "            print(\"BINGO pour la grille n°\",i)\n",
    "            print(score[str(i)])\n",
    "            print(\"SCOre: \",score[str(i)]['unmarked']*call)\n",
    "            break\n",
    "    if bingo:\n",
    "        break\n"
   ]
  },
  {
   "cell_type": "code",
   "execution_count": 5,
   "id": "00150382-9ff8-476e-88ea-82696e28fa1a",
   "metadata": {},
   "outputs": [],
   "source": [
    "#part 2\n",
    "boards = []\n",
    "score = {}\n",
    "def strtoint(l):\n",
    "    l2 = [int(i) for i in l]\n",
    "    return l2\n",
    "\n",
    "import numpy as np \n",
    "n = 0\n",
    "for d in data:\n",
    "    board= [i for i in d.split(\"\\n\")]\n",
    "    board = [i.split() for i in board]\n",
    "    board = [strtoint(ligne) for ligne in board]\n",
    "    boards.append(board)\n",
    "    score[str(n)] = {\"unmarked\" : np.array(board).sum(),\"called\" : 0}\n",
    "    n+=1\n",
    "    \n",
    "the_data = boards.copy()     "
   ]
  },
  {
   "cell_type": "code",
   "execution_count": 6,
   "id": "114f715d-6d5f-452d-905a-af3d641a6ea6",
   "metadata": {
    "tags": []
   },
   "outputs": [
    {
     "name": "stdout",
     "output_type": "stream",
     "text": [
      "SCOre:  2634\n",
      "['*', 60, '*', 47, 63]\n",
      "['*', 90, '*', '*', '*']\n",
      "[73, '*', '*', '*', '*']\n",
      "['*', '*', '*', '*', 35]\n",
      "[71, '*', '*', '*', '*']\n",
      "CPU times: user 311 ms, sys: 3.18 ms, total: 314 ms\n",
      "Wall time: 313 ms\n"
     ]
    }
   ],
   "source": [
    "%%time\n",
    "the_data = boards.copy()             \n",
    "\n",
    "stop =False\n",
    "looser_index =[str(x) for x in score.keys()]\n",
    "for call in called_number:\n",
    "    bingo = False\n",
    "    if stop:\n",
    "        break  \n",
    "  \n",
    "    for i,board in enumerate(the_data):\n",
    "        if bingo_verif(board) == True:\n",
    "            n, board = replace_called_num(call,board)\n",
    "           \n",
    "            continue\n",
    "        n, board = replace_called_num(call,board)\n",
    "        bingo = bingo_verif(board)\n",
    "        ind = boards.index(board)\n",
    "        score[str(ind)]['unmarked']-=n\n",
    "        score[str(ind)]['called']+=n\n",
    "        \n",
    "        if bingo and len(looser_index)==1:\n",
    "            print(\"SCOre: \",score[str(ind)]['unmarked']*call)\n",
    "            for i in boards[ind]:\n",
    "                print(i)\n",
    "            stop =True\n",
    "            break\n",
    "        \n",
    "        if bingo and str(ind) in  looser_index:\n",
    "            looser_index.remove(str(ind))\n",
    "            \n"
   ]
  },
  {
   "cell_type": "code",
   "execution_count": null,
   "id": "65face54-59e4-4fd3-a600-144ba0e55370",
   "metadata": {},
   "outputs": [],
   "source": []
  }
 ],
 "metadata": {
  "kernelspec": {
   "display_name": "Python 3 (ipykernel)",
   "language": "python",
   "name": "python3"
  },
  "language_info": {
   "codemirror_mode": {
    "name": "ipython",
    "version": 3
   },
   "file_extension": ".py",
   "mimetype": "text/x-python",
   "name": "python",
   "nbconvert_exporter": "python",
   "pygments_lexer": "ipython3",
   "version": "3.9.12"
  }
 },
 "nbformat": 4,
 "nbformat_minor": 5
}
