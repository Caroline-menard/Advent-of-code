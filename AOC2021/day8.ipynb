{
 "cells": [
  {
   "cell_type": "code",
   "execution_count": 1,
   "id": "3bf4086a-70dd-41d6-8793-6fa684985235",
   "metadata": {},
   "outputs": [],
   "source": [
    "with open(\"day8.txt\") as file:\n",
    "    data = file.read().split(\"\\n\")\n",
    "data = data[:-1]"
   ]
  },
  {
   "cell_type": "code",
   "execution_count": 2,
   "id": "1b1ab0c8-a8e8-4b87-b8e1-830969d94249",
   "metadata": {},
   "outputs": [],
   "source": [
    "# Number of segments\n",
    "#0 => 6            6=>6\n",
    "#1 => 2*           7=>3 *\n",
    "#2 =>5             8=>7 *\n",
    "#3 => 5            9=>6\n",
    "#4 => 4*\n",
    "#5 =>5\n"
   ]
  },
  {
   "cell_type": "code",
   "execution_count": 4,
   "id": "a6adde88-7ad9-425b-a6a2-aff29b0068f0",
   "metadata": {},
   "outputs": [
    {
     "name": "stdout",
     "output_type": "stream",
     "text": [
      "CPU times: user 374 µs, sys: 18 µs, total: 392 µs\n",
      "Wall time: 397 µs\n"
     ]
    },
    {
     "data": {
      "text/plain": [
       "530"
      ]
     },
     "execution_count": 4,
     "metadata": {},
     "output_type": "execute_result"
    }
   ],
   "source": [
    "%%time\n",
    "#partie 1\n",
    "code =[i.split(\"|\")[1].strip() for i in data]\n",
    "def count_unique_digit(valeur):\n",
    "    nbr = 0\n",
    "    for v in valeur.split(\" \"):\n",
    "        if len(v) in [2,4,3,7]:\n",
    "            nbr+=1\n",
    "    return nbr\n",
    "nbr_digit = sum(count_unique_digit(c) for c in code)\n",
    "nbr_digit "
   ]
  },
  {
   "cell_type": "code",
   "execution_count": 5,
   "id": "39ac95d0-8933-4d00-a992-d8be19f0658c",
   "metadata": {},
   "outputs": [],
   "source": [
    "#partie 2 \n",
    "def get_decode_dict(encodage):\n",
    "    #trouver la methode d'encodage \n",
    "    dico ={}\n",
    "    encodage = [set(c.strip()) for c in encodage.split(\" \")]\n",
    "   \n",
    "    #Trouver les valeurs 1,4,7,8\n",
    "    cop= encodage.copy()\n",
    "    for e in cop:\n",
    "        if len(e)==2:\n",
    "            dico[\"1\"]= e\n",
    "            encodage.remove(e)\n",
    "        elif len(e)==4:\n",
    "            dico[\"4\"]=e\n",
    "            encodage.remove(e)\n",
    "        elif len(e)==3:\n",
    "            dico[\"7\"]=e\n",
    "            encodage.remove(e)\n",
    "        elif len(e)==7:\n",
    "            dico[\"8\"]=e\n",
    "            encodage.remove(e)\n",
    " \n",
    "    taille5 = [s for s in encodage if len(s)==5]\n",
    "    sept = dico[\"7\"]\n",
    "    #trouver le 3: le 3 est l'unique a avoir 2 bâton de différence avec 7\n",
    "    for d in taille5:\n",
    "        if len(d.difference(sept))==2:\n",
    "            dico[\"3\"] = d\n",
    "            encodage.remove(d)\n",
    "            \n",
    "    #trouver le 2 et le 9\n",
    "    cop = encodage.copy()\n",
    "    for s in cop:  \n",
    "        if len(dico[\"4\"].intersection(s))==2:\n",
    "            dico[\"2\"]=s\n",
    "            encodage.remove(s)\n",
    "        elif len(dico[\"4\"].intersection(s))==4:\n",
    "            dico[\"9\"]=s\n",
    "            encodage.remove(s)\n",
    "    # trouver le 5,6 et 0\n",
    "    for d in encodage:\n",
    "        if len(d)==5: #a ce stade seul le 5 a 5 bâton\n",
    "            dico[\"5\"]=d  \n",
    "        else:\n",
    "            if len(d)!=0:\n",
    "                caractere = list(dico[\"8\"].difference(d))[0]\n",
    "                if caractere in dico[\"1\"]:\n",
    "                    dico[\"6\"]=d\n",
    "                else:\n",
    "                    dico[\"0\"]=d         \n",
    "    return dico\n",
    "    \n",
    "def decode(code,dico):\n",
    "    code = [set(c.strip()) for c in code.split(\" \")]\n",
    "    number =\"\"\n",
    "    def get_key(val):\n",
    "        for key, value in dico.items():\n",
    "             if val == value:\n",
    "                     return key\n",
    "        return f\"{code} key doesn't exist\"\n",
    "    for c in code:\n",
    "        number+=get_key(c)\n",
    "    return int(number)\n"
   ]
  },
  {
   "cell_type": "code",
   "execution_count": 6,
   "id": "0bd1722b-e8f9-469e-b461-f0e7e76aeaf2",
   "metadata": {},
   "outputs": [
    {
     "name": "stdout",
     "output_type": "stream",
     "text": [
      "CPU times: user 6.33 ms, sys: 155 µs, total: 6.48 ms\n",
      "Wall time: 6.43 ms\n"
     ]
    },
    {
     "data": {
      "text/plain": [
       "1051087"
      ]
     },
     "execution_count": 6,
     "metadata": {},
     "output_type": "execute_result"
    }
   ],
   "source": [
    "%%time\n",
    "total = 0\n",
    "for ligne in data:\n",
    "    rule, nombre = ligne.split(\"|\")[0], ligne.split(\"|\")[1]\n",
    "    t= decode(nombre.strip(),get_decode_dict(rule))\n",
    "    total+=t\n",
    "total"
   ]
  },
  {
   "cell_type": "code",
   "execution_count": null,
   "id": "11fa8e49-02d2-4e6e-a6e4-6b126fc65b48",
   "metadata": {},
   "outputs": [],
   "source": []
  }
 ],
 "metadata": {
  "kernelspec": {
   "display_name": "Python 3 (ipykernel)",
   "language": "python",
   "name": "python3"
  },
  "language_info": {
   "codemirror_mode": {
    "name": "ipython",
    "version": 3
   },
   "file_extension": ".py",
   "mimetype": "text/x-python",
   "name": "python",
   "nbconvert_exporter": "python",
   "pygments_lexer": "ipython3",
   "version": "3.9.12"
  }
 },
 "nbformat": 4,
 "nbformat_minor": 5
}
