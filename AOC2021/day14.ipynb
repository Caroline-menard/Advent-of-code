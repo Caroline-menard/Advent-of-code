{
 "cells": [
  {
   "cell_type": "code",
   "execution_count": 1,
   "id": "da6bcd98-5ab7-4253-abab-327acbaab282",
   "metadata": {},
   "outputs": [],
   "source": [
    "with open(\"day14.txt\") as file:\n",
    "    test = file.read().split(\"\\n\")\n",
    "\n",
    "pol = test[0]\n",
    "rules = test[2:-1]"
   ]
  },
  {
   "cell_type": "code",
   "execution_count": 2,
   "id": "96b5c2a2-9956-4d4b-9cf0-70dfaea0bad7",
   "metadata": {},
   "outputs": [],
   "source": [
    "rules = {r.split(\" -> \")[0]:r.split(\" -> \")[1] for r in rules}"
   ]
  },
  {
   "cell_type": "code",
   "execution_count": 3,
   "id": "64d92909-3fad-4e9f-aeae-665251a1dafd",
   "metadata": {},
   "outputs": [],
   "source": [
    "def inser_letters(polymer):\n",
    "    to_add ={}\n",
    "    pol = [i for i in polymer]\n",
    "    for i in rules:\n",
    "        if i in polymer:\n",
    "            ind = [c for c,x in enumerate(polymer) if x == i[0] and c !=len(polymer)-1]\n",
    "            ind = [c for c in ind if  polymer[c+1]==i[1]]\n",
    "            for indice in ind:\n",
    "                to_add[indice+1] = rules[i]\n",
    "    sorted_indice = sorted(to_add)[::-1]\n",
    "    for i in sorted_indice:\n",
    "        pol.insert(i,to_add[i])\n",
    "    return \"\".join(pol)"
   ]
  },
  {
   "cell_type": "code",
   "execution_count": 4,
   "id": "b27d021b-64c0-4b0f-bad2-1871b3c40b05",
   "metadata": {},
   "outputs": [],
   "source": [
    "from collections import Counter, defaultdict\n",
    "\n",
    "def score(polymer):\n",
    "    d =Counter(polymer)\n",
    "    most = d.most_common()[0]\n",
    "    less = d.most_common()[-1]\n",
    "    score = most[1]-less[1]\n",
    "    return score\n"
   ]
  },
  {
   "cell_type": "code",
   "execution_count": 5,
   "id": "3348e70d-cdf6-42aa-a46c-dc29b20dc5b8",
   "metadata": {},
   "outputs": [
    {
     "name": "stdout",
     "output_type": "stream",
     "text": [
      "score 3095\n",
      "CPU times: user 253 ms, sys: 3.46 ms, total: 256 ms\n",
      "Wall time: 255 ms\n"
     ]
    }
   ],
   "source": [
    "\n",
    "%%time\n",
    "#partie 1\n",
    "polymer = pol\n",
    "n=0\n",
    "\n",
    "while n !=10:\n",
    "    polymer = inser_letters(polymer)\n",
    "    n+=1\n",
    "    \n",
    "print(\"score\",score(polymer))"
   ]
  },
  {
   "cell_type": "code",
   "execution_count": 6,
   "id": "535ae5ba-f9ff-496d-b98f-23424cffbc33",
   "metadata": {},
   "outputs": [],
   "source": [
    "def actualise_dict(letter_counter,patterns_counter):\n",
    "    new_patterns_count = defaultdict(lambda:0)\n",
    "    for p in patterns_counter:\n",
    "        letter_counter[rules[p]]+=patterns_counter[p]\n",
    "        for i in next_patterns[p]:\n",
    "            new_patterns_count[i]+=patterns_counter[p]\n",
    "    return letter_counter, new_patterns_count\n",
    "        "
   ]
  },
  {
   "cell_type": "code",
   "execution_count": 7,
   "id": "2ad9f4ee-3a49-423b-bcf0-d2ec6fd045a6",
   "metadata": {},
   "outputs": [
    {
     "name": "stdout",
     "output_type": "stream",
     "text": [
      "score:  3152788426516\n",
      "CPU times: user 5.92 ms, sys: 717 µs, total: 6.63 ms\n",
      "Wall time: 6.05 ms\n"
     ]
    }
   ],
   "source": [
    "%%time\n",
    "\n",
    "#partie 2\n",
    "next_patterns ={}\n",
    "for i in rules :\n",
    "    li = [x for x in i]\n",
    "    li.insert(1,rules[i])\n",
    "    next_patterns[i]=[]\n",
    "    for j in rules:\n",
    "        if j in \"\".join(li):\n",
    "            #print(\"donne\",j)\n",
    "            next_patterns[i].append(j)\n",
    "next_patterns\n",
    "\n",
    "letter_counter = defaultdict(lambda:0)\n",
    "polymer = set([p for p in pol])\n",
    "for p in polymer:\n",
    "    letter_counter[p]=pol.count(p)\n",
    "\n",
    "patterns_liste=[pol[i]+pol[i+1] for i in range(0,len(pol)-1) if pol[i]+pol[i+1] in rules.keys()]\n",
    "patterns_count = dict(Counter(patterns_liste))\n",
    "n=0\n",
    "while n !=40:\n",
    "    letter_counter,patterns_count = actualise_dict(letter_counter,patterns_count)\n",
    "    n+=1\n",
    "   \n",
    "\n",
    "\n",
    "letter_counter = Counter(letter_counter)\n",
    "\n",
    "score = letter_counter.most_common()[0][1]-letter_counter.most_common()[-1][1]\n",
    "print(\"score: \",score)\n"
   ]
  }
 ],
 "metadata": {
  "kernelspec": {
   "display_name": "Python 3 (ipykernel)",
   "language": "python",
   "name": "python3"
  },
  "language_info": {
   "codemirror_mode": {
    "name": "ipython",
    "version": 3
   },
   "file_extension": ".py",
   "mimetype": "text/x-python",
   "name": "python",
   "nbconvert_exporter": "python",
   "pygments_lexer": "ipython3",
   "version": "3.9.12"
  }
 },
 "nbformat": 4,
 "nbformat_minor": 5
}
