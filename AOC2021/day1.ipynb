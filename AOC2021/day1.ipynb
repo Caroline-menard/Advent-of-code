{
 "cells": [
  {
   "cell_type": "code",
   "execution_count": 1,
   "id": "3b695193-a8d5-4677-b9d5-944073f780bf",
   "metadata": {},
   "outputs": [],
   "source": [
    "with open(\"day1.txt\") as file:\n",
    "    data =file.read().split(\"\\n\")"
   ]
  },
  {
   "cell_type": "code",
   "execution_count": 2,
   "id": "2de97cf6-d513-49e9-90e9-74f36604f7f8",
   "metadata": {
    "tags": []
   },
   "outputs": [],
   "source": [
    "data = [int(x) for x in data]"
   ]
  },
  {
   "cell_type": "code",
   "execution_count": 3,
   "id": "e9f0257b-5cf8-4c94-bde9-649013918430",
   "metadata": {
    "tags": []
   },
   "outputs": [
    {
     "name": "stdout",
     "output_type": "stream",
     "text": [
      "171\n",
      "CPU times: user 592 µs, sys: 75 µs, total: 667 µs\n",
      "Wall time: 636 µs\n"
     ]
    },
    {
     "data": {
      "text/plain": [
       "1266"
      ]
     },
     "execution_count": 3,
     "metadata": {},
     "output_type": "execute_result"
    }
   ],
   "source": [
    "%%time\n",
    "#part1\n",
    "increase = 0 \n",
    "n0 = data [0] \n",
    "print(n0)\n",
    "for i in data[1:]:\n",
    "    gap = i- n0\n",
    "    if gap > 0 :\n",
    "        increase +=1\n",
    "    n0 = i\n",
    "increase"
   ]
  },
  {
   "cell_type": "code",
   "execution_count": 4,
   "id": "517a7442-d83b-419c-9686-c4ed2a577d36",
   "metadata": {},
   "outputs": [
    {
     "name": "stdout",
     "output_type": "stream",
     "text": [
      "CPU times: user 1.67 ms, sys: 45 µs, total: 1.71 ms\n",
      "Wall time: 1.73 ms\n"
     ]
    },
    {
     "data": {
      "text/plain": [
       "1217"
      ]
     },
     "execution_count": 4,
     "metadata": {},
     "output_type": "execute_result"
    }
   ],
   "source": [
    "%%time\n",
    "#part2\n",
    "sommes = []\n",
    "for i in range(0,len(data)):\n",
    "    \n",
    "    if i>2: \n",
    "        s = data[i] + data[i-1]+data[i-2]\n",
    "        sommes.append(s)        \n",
    "increase = 0 \n",
    "s0 = sommes[0]\n",
    "for s in sommes[1:]:\n",
    "    if s-s0>0:\n",
    "        increase +=1\n",
    "    s0 = s\n",
    "increase"
   ]
  }
 ],
 "metadata": {
  "kernelspec": {
   "display_name": "Python 3 (ipykernel)",
   "language": "python",
   "name": "python3"
  },
  "language_info": {
   "codemirror_mode": {
    "name": "ipython",
    "version": 3
   },
   "file_extension": ".py",
   "mimetype": "text/x-python",
   "name": "python",
   "nbconvert_exporter": "python",
   "pygments_lexer": "ipython3",
   "version": "3.9.12"
  }
 },
 "nbformat": 4,
 "nbformat_minor": 5
}
