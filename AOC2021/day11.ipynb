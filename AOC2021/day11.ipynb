{
 "cells": [
  {
   "cell_type": "code",
   "execution_count": 1,
   "id": "a45c62a0-83f7-4391-be28-2ff5e56ac01b",
   "metadata": {},
   "outputs": [],
   "source": [
    "with open(\"day11.txt\") as file:\n",
    "    data_original = file.read().split(\"\\n\")"
   ]
  },
  {
   "cell_type": "code",
   "execution_count": 2,
   "id": "33671c1e-3d1d-49b7-971b-33629c978a84",
   "metadata": {},
   "outputs": [],
   "source": [
    "data ={}\n",
    "for i, ligne in enumerate(data_original):\n",
    "    for j, charater in enumerate(ligne):\n",
    "        data[(i,j)] = int(data_original[i][j])"
   ]
  },
  {
   "cell_type": "code",
   "execution_count": 3,
   "id": "24e61ac8-ae7b-4bbd-9256-e1e22a121753",
   "metadata": {},
   "outputs": [],
   "source": [
    "def increase_voisins(data,all_ready_fash= None):\n",
    "    all_ready_fash= all_ready_fash or set()\n",
    "    decalator =[(1,0),(-1,0),(0,1),(0,-1)\n",
    "               ,(-1,-1),(-1,1),(1,1),(1,-1)]\n",
    "    octopus1 =  set([(i,j) for (i,j) in data if data[(i,j)]>9 and (i,j) not in all_ready_fash])\n",
    "    \n",
    "    all_ready_fash.update(octopus1)\n",
    "    for (i,j) in octopus1:\n",
    "        for (x,y) in decalator:\n",
    "            if data.get((i+x,j+y),False):\n",
    "                data[(i+x,j+y)]+=1\n",
    "    \n",
    "    octopus2 = set([(i,j) for (i,j) in data if data[(i,j)]>9 and(i,j) not in all_ready_fash]) # nouveau flashs\n",
    "\n",
    "    if len(octopus2)!=0:\n",
    "        increase_voisins(data,all_ready_fash )\n",
    "   \n",
    "    \n",
    "def return_to_0_after_flash (data):\n",
    "    data_={}\n",
    "    n = 0\n",
    "    for (i,j),v in data.items():\n",
    "        if v<10:\n",
    "            data_[(i,j)] = v\n",
    "        else:\n",
    "            data_[(i,j)] = 0\n",
    "            n+=1\n",
    "    return data_, n \n"
   ]
  },
  {
   "cell_type": "code",
   "execution_count": 4,
   "id": "cdc6bae1-ef4f-47d4-9af4-ea0a4a2e2fe2",
   "metadata": {},
   "outputs": [
    {
     "name": "stdout",
     "output_type": "stream",
     "text": [
      "CPU times: user 24.8 ms, sys: 1.49 ms, total: 26.2 ms\n",
      "Wall time: 25 ms\n"
     ]
    },
    {
     "data": {
      "text/plain": [
       "1665"
      ]
     },
     "execution_count": 4,
     "metadata": {},
     "output_type": "execute_result"
    }
   ],
   "source": [
    "%%time\n",
    "#partie 1:\n",
    "\n",
    "d =data.copy()\n",
    "flashs =0\n",
    "\n",
    "for i in range(0,100):\n",
    "   #step 1: increase all values.\n",
    "    d ={(i,j): v+1 for (i,j),v in d.items()}\n",
    "    increase_voisins(d) # flash all  ones needed\n",
    "    d ,f = return_to_0_after_flash(d) # return zero the one who flashed\n",
    "    flashs +=f\n",
    "flashs    "
   ]
  },
  {
   "cell_type": "code",
   "execution_count": 6,
   "id": "3cd5fc56-726a-4470-9f96-79400a2ef0eb",
   "metadata": {},
   "outputs": [
    {
     "name": "stdout",
     "output_type": "stream",
     "text": [
      "CPU times: user 51.1 ms, sys: 2.3 ms, total: 53.4 ms\n",
      "Wall time: 52.5 ms\n"
     ]
    },
    {
     "data": {
      "text/plain": [
       "235"
      ]
     },
     "execution_count": 6,
     "metadata": {},
     "output_type": "execute_result"
    }
   ],
   "source": [
    "%%time\n",
    "d =data.copy()\n",
    "f = 0\n",
    "step =0\n",
    "while f != len(data):\n",
    "   #step 1: increase all values.\n",
    "    d ={(i,j): v+1 for (i,j),v in d.items()}\n",
    "    increase_voisins(d) # flash all  ones needed\n",
    "    d ,f = return_to_0_after_flash(d) # return zero the one who flashed\n",
    "    step+=1\n",
    "step\n",
    "       "
   ]
  },
  {
   "cell_type": "code",
   "execution_count": null,
   "id": "32fc44eb-86de-40ac-bb0b-87aafa988c43",
   "metadata": {},
   "outputs": [],
   "source": []
  }
 ],
 "metadata": {
  "kernelspec": {
   "display_name": "Python 3 (ipykernel)",
   "language": "python",
   "name": "python3"
  },
  "language_info": {
   "codemirror_mode": {
    "name": "ipython",
    "version": 3
   },
   "file_extension": ".py",
   "mimetype": "text/x-python",
   "name": "python",
   "nbconvert_exporter": "python",
   "pygments_lexer": "ipython3",
   "version": "3.9.12"
  }
 },
 "nbformat": 4,
 "nbformat_minor": 5
}
