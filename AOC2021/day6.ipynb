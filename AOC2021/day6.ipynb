{
 "cells": [
  {
   "cell_type": "code",
   "execution_count": 1,
   "id": "cee84a6f-e322-45b0-b7da-0845e7132ec0",
   "metadata": {},
   "outputs": [],
   "source": [
    "with open(\"day6.txt\") as file:\n",
    "    data = file.read()"
   ]
  },
  {
   "cell_type": "code",
   "execution_count": 2,
   "id": "9b19d182-563c-4946-9955-399d7cac7b01",
   "metadata": {},
   "outputs": [],
   "source": [
    "data =[4,3,4,5,2,1,1,5,5,3,3,1,5,1,4,2,2,3,1,5,1,4,1,2,3,4,1,4,1,5,2,1,1,3,3,5,1,1,1,1,4,5,1,2,1\n",
    "       ,2,1,1,1,5,3,3,1,1,1,1,2,4,2,1,2,3,2,5,3,5,3,1,5,4,5,4,4,4,1,1,2,1,3,1,1,4,2,1,2,1,2,5,4,2\n",
    "       ,4,2,2,4,2,2,5,1,2,1,2,1,4,4,4,3,2,1,2,4,3,5,1,1,3,4,2,3,3,5,3,1,4,1,1,1,1,2,3,2,1,1,5,5,1\n",
    "       ,5,2,1,4,4,4,3,2,2,1,2,1,5,1,4,4,1,1,4,1,4,2,4,3,1,4,1,4,2,1,5,1,1,1,3,2,4,1,1,4,1,4,3,1,5\n",
    "       ,3,3,3,4,1,1,3,1,3,4,1,4,5,1,4,1,2,2,1,3,3,5,3,2,5,1,1,5,1,5,1,4,4,3,1,5,5,2,2,4,1,1,2,1,2\n",
    "       ,1,4,3,5,5,2,3,4,1,4,2,4,4,1,4,1,1,4,2,4,1,2,1,1,1,1,1,1,3,1,3,3,1,1,1,1,3,2,3,5,4,2,4,3,1\n",
    "       ,5,3,1,1,1,2,1,4,4,5,1,5,1,1,1,2,2,4,1,4,5,2,4,5,2,2,2,5,4,4]"
   ]
  },
  {
   "cell_type": "code",
   "execution_count": 3,
   "id": "ee572346-9ddb-434a-8ec0-28c0b53be11c",
   "metadata": {},
   "outputs": [],
   "source": [
    "dico_reproduction = {str(i):0 for i in range(0,len(data))}"
   ]
  },
  {
   "cell_type": "code",
   "execution_count": 4,
   "id": "1ee6db70-9e49-4cf0-863e-270d69cfee74",
   "metadata": {},
   "outputs": [],
   "source": [
    "def add_new_fish(n):\n",
    "    for i in range(0,n):\n",
    "        data.append(8)"
   ]
  },
  {
   "cell_type": "code",
   "execution_count": 5,
   "id": "4f9eea1f-e380-4d3f-b54f-8b8f64e2ac64",
   "metadata": {
    "tags": []
   },
   "outputs": [
    {
     "name": "stdout",
     "output_type": "stream",
     "text": [
      "CPU times: user 2 µs, sys: 0 ns, total: 2 µs\n",
      "Wall time: 6.2 µs\n",
      "jour °1: 300\n",
      "jour °51: 28521\n",
      "---------------------------------------\n",
      "359344 poissons au jour 80\n",
      "---------------------------------------\n"
     ]
    }
   ],
   "source": [
    "%time\n",
    "for j in range(0,80):\n",
    "    n_new_fish = 0\n",
    "    for i , timer in enumerate(data):\n",
    "        if timer==0:\n",
    "            data[i] = 6  # on réintialise le timmer\n",
    "            n_new_fish+=1\n",
    "        else:\n",
    "            data[i]-=1\n",
    "    add_new_fish(n_new_fish)\n",
    "    if j%50==0:\n",
    "        print(f\"jour °{j+1}: {len(data)}\")\n",
    "print(\"---------------------------------------\")\n",
    "print(f\"{len(data)} poissons au jour {j+1}\")\n",
    "print(\"---------------------------------------\")\n"
   ]
  },
  {
   "cell_type": "code",
   "execution_count": 6,
   "id": "7cf4a98a-4eb3-4bc2-be5a-d4e925129094",
   "metadata": {},
   "outputs": [],
   "source": [
    "#part 2\n",
    "from collections import Counter\n",
    "d = Counter(data)\n",
    "d = dict(d)\n",
    "d[0]=0\n",
    "d[8]=0\n"
   ]
  },
  {
   "cell_type": "code",
   "execution_count": 7,
   "id": "168eb2cc-4898-48d3-aaf6-5b891993c2ac",
   "metadata": {},
   "outputs": [],
   "source": [
    "from collections import defaultdict\n",
    "def change_dict(dico):\n",
    "    new_dico =defaultdict(lambda:0)\n",
    "    for timer, nbr in dico.items():\n",
    "        if timer == 0:\n",
    "            continue\n",
    "        new_dico[timer-1]= nbr \n",
    "    new = dico.get(0) or 0 #nbr de nouveaux poissons\n",
    "    new_dico[8]=new \n",
    "    new_dico[6]+=new\n",
    "    return new_dico"
   ]
  },
  {
   "cell_type": "code",
   "execution_count": 8,
   "id": "f938cd25-78b8-4fea-b848-5f1539564dda",
   "metadata": {},
   "outputs": [
    {
     "name": "stdout",
     "output_type": "stream",
     "text": [
      "1440098065767763\n",
      "CPU times: user 961 µs, sys: 122 µs, total: 1.08 ms\n",
      "Wall time: 1.05 ms\n"
     ]
    }
   ],
   "source": [
    "%%time\n",
    "for i in range(0,256):\n",
    "    d = change_dict(d)\n",
    "    \n",
    "n=0\n",
    "for i in d.values():\n",
    "    n+=i\n",
    "print(n)"
   ]
  },
  {
   "cell_type": "code",
   "execution_count": null,
   "id": "5b1e0134-076d-4293-b70a-b58167232c3f",
   "metadata": {},
   "outputs": [],
   "source": []
  }
 ],
 "metadata": {
  "kernelspec": {
   "display_name": "Python 3 (ipykernel)",
   "language": "python",
   "name": "python3"
  },
  "language_info": {
   "codemirror_mode": {
    "name": "ipython",
    "version": 3
   },
   "file_extension": ".py",
   "mimetype": "text/x-python",
   "name": "python",
   "nbconvert_exporter": "python",
   "pygments_lexer": "ipython3",
   "version": "3.9.12"
  }
 },
 "nbformat": 4,
 "nbformat_minor": 5
}
