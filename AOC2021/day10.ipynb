{
 "cells": [
  {
   "cell_type": "code",
   "execution_count": 1,
   "id": "4192c583-4fa4-40f1-abdb-9665ea85977f",
   "metadata": {},
   "outputs": [],
   "source": [
    "with open(\"Day10.txt\") as file:\n",
    "    data = file.read().split(\"\\n\")\n",
    "data = data[:-1]\n",
    "\n",
    "\n"
   ]
  },
  {
   "cell_type": "code",
   "execution_count": 2,
   "id": "7a76ca94-7c96-4a72-9537-6220097b014d",
   "metadata": {},
   "outputs": [],
   "source": [
    "#part1\n",
    "debut ={\"(\":\")\",\"<\":\">\",\"[\":\"]\",\"{\":\"}\"}\n",
    "fin = {v: k for k, v in debut.items()}\n",
    "\n",
    "def error_tracker(ligne):\n",
    "    bords = []\n",
    "    for lettre in ligne:\n",
    "        if lettre in debut: #<(([...\n",
    "            bords.append(lettre)\n",
    "        else: \n",
    "            dernier = bords[-1]\n",
    "            ok = fin[lettre]\n",
    "            if dernier != ok:\n",
    "                return lettre\n",
    "            bords.pop()\n",
    "           \n",
    "    "
   ]
  },
  {
   "cell_type": "code",
   "execution_count": 3,
   "id": "eefc91a0-bf0f-4617-8152-21d7a8ba4bbc",
   "metadata": {},
   "outputs": [
    {
     "name": "stdout",
     "output_type": "stream",
     "text": [
      "CPU times: user 1.09 ms, sys: 50 µs, total: 1.15 ms\n",
      "Wall time: 1.17 ms\n"
     ]
    },
    {
     "data": {
      "text/plain": [
       "343863"
      ]
     },
     "execution_count": 3,
     "metadata": {},
     "output_type": "execute_result"
    }
   ],
   "source": [
    "%%time\n",
    "\n",
    "error_weight = {\")\": 3, \"]\": 57, \"}\": 1197, \">\": 25137}\n",
    "errors = [] \n",
    "for ligne in data :\n",
    "    er=error_tracker(ligne) \n",
    "    errors.append(er)\n",
    "score = sum(error_weight[i] for i in errors if i!=None)\n",
    "score"
   ]
  },
  {
   "cell_type": "code",
   "execution_count": 4,
   "id": "86614f6d-bba5-44bb-a1d5-bbaa0275517a",
   "metadata": {},
   "outputs": [],
   "source": [
    "\n",
    "   # ): 1 point.\n",
    "   # ]: 2 points.\n",
    "   # }: 3 points.\n",
    "   # >: 4 points.\n"
   ]
  },
  {
   "cell_type": "code",
   "execution_count": 5,
   "id": "69151415-a6b1-4b50-8624-05b79398df32",
   "metadata": {
    "tags": []
   },
   "outputs": [],
   "source": [
    "#part 2\n",
    "import numpy as np\n",
    "points = {\")\":1,\"]\":2,\"}\":3,\">\":4}\n",
    "\n",
    "def bord(ligne):\n",
    "    bords = []\n",
    "    for lettre in ligne:\n",
    "        if lettre in debut: #<(([...\n",
    "            bords.append(lettre)\n",
    "            \n",
    "        else: \n",
    "            dernier = bords[-1]\n",
    "            ok = fin[lettre]\n",
    "            if dernier != ok:\n",
    "                return lettre\n",
    "            bords.pop()\n",
    "    return bords[::-1]\n",
    "\n",
    "def calcul_score(pattern):\n",
    "    score= 0\n",
    "    for i in pattern:\n",
    "        score*=5\n",
    "        score+= points[debut[i]] \n",
    "    return score\n"
   ]
  },
  {
   "cell_type": "code",
   "execution_count": 6,
   "id": "888629fb-37f3-41b5-b258-9ac29cb27b15",
   "metadata": {},
   "outputs": [
    {
     "name": "stdout",
     "output_type": "stream",
     "text": [
      "CPU times: user 2.52 ms, sys: 44 µs, total: 2.56 ms\n",
      "Wall time: 2.54 ms\n"
     ]
    },
    {
     "data": {
      "text/plain": [
       "2924734236"
      ]
     },
     "execution_count": 6,
     "metadata": {},
     "output_type": "execute_result"
    }
   ],
   "source": [
    "%%time\n",
    "scores =[]            \n",
    "for ligne in data :\n",
    "    er=error_tracker(ligne)\n",
    "    if er ==None:\n",
    "        bordure = bord(ligne)\n",
    "        scores.append(calcul_score(bordure))\n",
    "        \n",
    "\n",
    "int(np.median(scores))"
   ]
  }
 ],
 "metadata": {
  "kernelspec": {
   "display_name": "Python 3 (ipykernel)",
   "language": "python",
   "name": "python3"
  },
  "language_info": {
   "codemirror_mode": {
    "name": "ipython",
    "version": 3
   },
   "file_extension": ".py",
   "mimetype": "text/x-python",
   "name": "python",
   "nbconvert_exporter": "python",
   "pygments_lexer": "ipython3",
   "version": "3.9.12"
  }
 },
 "nbformat": 4,
 "nbformat_minor": 5
}
