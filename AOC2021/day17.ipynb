{
 "cells": [
  {
   "cell_type": "code",
   "execution_count": 3,
   "id": "62678f07-f5b7-413d-8a19-08b8868ad355",
   "metadata": {},
   "outputs": [],
   "source": [
    "target =\"x=29..73, y=-248..-194\""
   ]
  },
  {
   "cell_type": "code",
   "execution_count": 20,
   "id": "28141ddf-b095-4a7f-b4e3-7dd9a51f89cf",
   "metadata": {},
   "outputs": [],
   "source": [
    "start =(0,0)\n",
    "target ={\"x_min\": 29,\"x_max\":73,\"y_min\":-248,\"y_max\":-194}\n"
   ]
  },
  {
   "cell_type": "code",
   "execution_count": 199,
   "id": "dc903e31-cf77-450d-bfda-1dbe8658f1a5",
   "metadata": {},
   "outputs": [],
   "source": [
    "def try_is_position(point):\n",
    "    x_ = point[0]\n",
    "    y_= point[1]\n",
    "    posx = x_\n",
    "    posy = y_\n",
    "    cible =0\n",
    "    position = [0]\n",
    "    position.append(posy)\n",
    "    while posy>target.get(\"y_min\")-1:\n",
    "        if x_ >0:\n",
    "            x_-=1\n",
    "        elif x_<0:\n",
    "            x_+=1\n",
    "        y_-=1\n",
    "        posx+=x_\n",
    "        posy+=y_\n",
    "        position.append(posy)\n",
    "        if posx in range(29,74) and posy in range(target.get(\"y_min\"),target.get(\"y_max\")):\n",
    "            cible =1\n",
    "            return max(position)\n",
    "            break\n",
    "    \n",
    "    "
   ]
  },
  {
   "cell_type": "code",
   "execution_count": 80,
   "id": "676962ca-af7c-4a00-8087-c2f29dc4b347",
   "metadata": {},
   "outputs": [],
   "source": [
    "import pandas as pd\n",
    "df = pd.DataFrame(columns = [str(i) for i in range(-10,75)])"
   ]
  },
  {
   "cell_type": "code",
   "execution_count": 193,
   "id": "53ac25fe-ebf8-45df-8b58-6a06989b21e8",
   "metadata": {
    "tags": []
   },
   "outputs": [],
   "source": [
    "dico_max ={}\n",
    "\n",
    "for x in range(8,12):\n",
    "    les_max = []\n",
    "    for y in range(-300,300):\n",
    "\n",
    "        les_max.append(try_is_position((x,y)))\n",
    "    dico_max[str(x)] = les_max\n",
    "   "
   ]
  },
  {
   "cell_type": "code",
   "execution_count": 194,
   "id": "1d425911-19e9-4b52-aef2-0d8de1591427",
   "metadata": {},
   "outputs": [
    {
     "data": {
      "text/plain": [
       "<matplotlib.legend.Legend at 0x12d7758b0>"
      ]
     },
     "execution_count": 194,
     "metadata": {},
     "output_type": "execute_result"
    },
    {
     "data": {
      "image/png": "[encoded data removed]",
      "text/plain": [
       "<Figure size 432x288 with 1 Axes>"
      ]
     },
     "metadata": {
      "needs_background": "light"
     },
     "output_type": "display_data"
    }
   ],
   "source": [
    "for x in dico_max:\n",
    "    plt.plot(range(-300,300),dico_max.get(x),label =x)\n",
    "plt.legend()"
   ]
  },
  {
   "cell_type": "code",
   "execution_count": 189,
   "id": "80a43dd9-e508-47d5-9acf-118c490440bf",
   "metadata": {},
   "outputs": [
    {
     "name": "stdout",
     "output_type": "stream",
     "text": [
      "30628\n"
     ]
    }
   ],
   "source": [
    "#part1\n",
    "le_max =0\n",
    "for y in range(-10,1000):\n",
    "\n",
    "    t = try_is_position((8,y))\n",
    "    if t!= None:\n",
    "        if t>le_max:\n",
    "            le_max = t\n",
    "print(le_max)"
   ]
  },
  {
   "cell_type": "code",
   "execution_count": 180,
   "id": "38142178-7b1f-4e6b-8c65-13805632031b",
   "metadata": {},
   "outputs": [],
   "source": [
    "def get_trajectoire(point):\n",
    "    x_ = point[0]\n",
    "    y_= point[1]\n",
    "    posx = x_\n",
    "    posy = y_\n",
    "    cible =0\n",
    "    position = [(0,0)]\n",
    "    position.append((posx,posy))#)(posx,\n",
    "    while posy>target.get(\"y_min\")-1:\n",
    "        if x_ >0:\n",
    "            x_-=1\n",
    "        elif x_<0:\n",
    "            x_+=1\n",
    "        y_-=1\n",
    "        posx+=x_\n",
    "        posy+=y_\n",
    "        position.append((posx,posy))#(posx,\n",
    "        #print(posx,posy)\n",
    "        if posx in range(29,74) and posy in range(target.get(\"y_min\"),target.get(\"y_max\")):\n",
    "            cible =1\n",
    "            return position\n",
    "            break\n",
    "    "
   ]
  },
  {
   "cell_type": "code",
   "execution_count": 147,
   "id": "1e13b541-f2aa-4cd0-9b49-87bea85c9ada",
   "metadata": {
    "tags": []
   },
   "outputs": [],
   "source": [
    "import matplotlib.pyplot as plt\n",
    "def display_trajetoire(pos):\n",
    "    plt.figure(figsize=[10,5])\n",
    "    for (i,j) in pos:\n",
    "        plt.scatter(x=i,y=j,color=\"black\")\n",
    "    plt.scatter(x=29 , y=-193 ,color=\"blue\")\n",
    "    plt.scatter(x=73 , y=-193 ,color=\"blue\")\n",
    "    plt.scatter(x=29 , y= -248,color=\"blue\")\n",
    "    plt.scatter(x=73 , y= -248,color=\"blue\")\n",
    "   #29..73, y=-248..-194\n",
    "    plt.grid()\n",
    "    plt.show()"
   ]
  },
  {
   "cell_type": "code",
   "execution_count": 148,
   "id": "fbe12e30-41e2-44d5-a64d-2753c9eaf30a",
   "metadata": {},
   "outputs": [
    {
     "data": {
      "image/png": "[encoded data removed]",
      "text/plain": [
       "<Figure size 720x360 with 1 Axes>"
      ]
     },
     "metadata": {
      "needs_background": "light"
     },
     "output_type": "display_data"
    }
   ],
   "source": [
    "display_trajetoire(pos)"
   ]
  },
  {
   "cell_type": "code",
   "execution_count": 88,
   "id": "69e3e804-336a-4d96-8844-3898fad5552e",
   "metadata": {},
   "outputs": [
    {
     "data": {
      "image/png": "[encoded data removed]",
      "text/plain": [
       "<Figure size 720x360 with 1 Axes>"
      ]
     },
     "metadata": {
      "needs_background": "light"
     },
     "output_type": "display_data"
    }
   ],
   "source": [
    "display_trajetoire(pos)"
   ]
  },
  {
   "cell_type": "code",
   "execution_count": 60,
   "id": "f5fc1d76-c7b2-4914-8d0c-b52fc71e4030",
   "metadata": {},
   "outputs": [],
   "source": [
    "#\"x=29..73, y=-248..-194\"\n",
    "def next_step(x,y,vx,vy):\n",
    "    x+=vx\n",
    "    y+=vy\n",
    "    if vx>0:\n",
    "        vx-=1\n",
    "    elif vx<0:\n",
    "        vx+=1\n",
    "    vy-=1\n",
    "    return(x,y,vx,vy)\n",
    "\n",
    "def miss_target(x,y):\n",
    "    if x >73 or y<-248:\n",
    "        return True\n",
    "    else: \n",
    "        return False\n",
    "    \n",
    "def test(vx,vy):\n",
    "    x,y = (0,0)\n",
    "    trajectoire =[(0,0)]\n",
    "    while not miss_target(x,y):\n",
    "        if x>28 and y<-193:\n",
    "            return  1 #trajectoire\n",
    "        x,y,vx,vy = next_step(x,y,vx,vy)\n",
    "        trajectoire.append((x,y))\n",
    "    \n",
    "        "
   ]
  },
  {
   "cell_type": "code",
   "execution_count": 68,
   "id": "8cf03675-8191-4005-9aa2-5170dfbbdbbf",
   "metadata": {},
   "outputs": [],
   "source": [
    "def count_good_speed():\n",
    "    speeds =0 #{}\n",
    "    for  vx in range(0,100):\n",
    "        for vy in range(-2*249,2*249):\n",
    "            if test(vx,vy)!=None:\n",
    "                speeds+=1\n",
    "    return speeds\n"
   ]
  },
  {
   "cell_type": "code",
   "execution_count": 69,
   "id": "ea09a388-879a-46d0-bc59-7c93f62ae95e",
   "metadata": {},
   "outputs": [
    {
     "name": "stdout",
     "output_type": "stream",
     "text": [
      "4433\n",
      "CPU times: user 1.73 s, sys: 7.56 ms, total: 1.74 s\n",
      "Wall time: 1.74 s\n"
     ]
    }
   ],
   "source": [
    "%%time\n",
    "speed =count_good_speed()\n",
    "print(speed)"
   ]
  }
 ],
 "metadata": {
  "kernelspec": {
   "display_name": "Python 3 (ipykernel)",
   "language": "python",
   "name": "python3"
  },
  "language_info": {
   "codemirror_mode": {
    "name": "ipython",
    "version": 3
   },
   "file_extension": ".py",
   "mimetype": "text/x-python",
   "name": "python",
   "nbconvert_exporter": "python",
   "pygments_lexer": "ipython3",
   "version": "3.9.12"
  }
 },
 "nbformat": 4,
 "nbformat_minor": 5
}
