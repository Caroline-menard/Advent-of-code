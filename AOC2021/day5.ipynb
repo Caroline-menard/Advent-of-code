{
 "cells": [
  {
   "cell_type": "code",
   "execution_count": 1,
   "id": "551897d2-1572-4c93-9d54-f8e5a193e719",
   "metadata": {},
   "outputs": [],
   "source": [
    "with open(\"day5.txt\") as file:\n",
    "    data = file.read().split(\"\\n\")"
   ]
  },
  {
   "cell_type": "code",
   "execution_count": 3,
   "id": "4af32778-61d1-4c36-8022-c2eea1b135a1",
   "metadata": {},
   "outputs": [],
   "source": [
    "import numpy as np"
   ]
  },
  {
   "cell_type": "code",
   "execution_count": 4,
   "id": "dfd7b115-90ee-4784-a706-0ea10dea2eca",
   "metadata": {},
   "outputs": [],
   "source": [
    "#partie 1\n",
    "def get_xs(ligne):\n",
    "    x1,x2 = int(ligne.split(\",\")[0]),int((ligne.split(\">\")[1].split(\",\")[0]).strip())\n",
    "    return min(x1,x2), max(x1,x2)\n",
    "def get_ys(ligne):\n",
    "    y1,y2 = int((ligne.split(\",\")[1].split(\"-\")[0]).strip()), int(ligne.split(\",\")[-1])\n",
    "    return min(y1,y2), max(y1,y2)\n",
    "def verif_hor_vert(ligne):\n",
    "    x1,x2 = get_xs(ligne)\n",
    "    y1,y2 =get_ys(ligne)\n",
    "    if x1==x2 or y1==y2:\n",
    "        return True\n",
    "    else:\n",
    "        return False\n",
    "    \n",
    "def increase_value(x1,x2,y1,y2,dt):\n",
    "    modif =0\n",
    "    if x1==x2:\n",
    "        for l in dt[y1:y2+1]:\n",
    "            l[x1]+=1\n",
    "            modif+=1\n",
    "    else:\n",
    "        i = x1\n",
    "        while i <x2+1:\n",
    "            try:\n",
    "                dt[y1][i] +=1\n",
    "                modif+=1\n",
    "                i+=1\n",
    "            except:\n",
    "                print(\"PB:\",y1,i)\n",
    "\n",
    "  "
   ]
  },
  {
   "cell_type": "code",
   "execution_count": 5,
   "id": "ed84a3d8-bef2-4b49-a067-ddd745e658b5",
   "metadata": {},
   "outputs": [],
   "source": [
    "def getmax_dim(liste):\n",
    "    x = []\n",
    "    y = []\n",
    "    for i in liste:\n",
    "        x.append(int(i.split(\",\")[0]))\n",
    "        x.append(int((i.split(\">\")[1].split(\",\")[0]).strip()))\n",
    "        y.append(int((i.split(\",\")[1].split(\"-\")[0]).strip()))\n",
    "        y.append(int(i.split(\",\")[-1]))\n",
    "                \n",
    "    return max(x),max(y)\n",
    "X,Y = getmax_dim(data)"
   ]
  },
  {
   "cell_type": "code",
   "execution_count": 6,
   "id": "67ea5993-474d-40b1-84aa-7595c363d30a",
   "metadata": {},
   "outputs": [],
   "source": [
    "frame = np.zeros((X+1, Y+1)).tolist()"
   ]
  },
  {
   "cell_type": "code",
   "execution_count": 7,
   "id": "e016da6c-0686-4d92-92f4-b9e490883b42",
   "metadata": {
    "tags": []
   },
   "outputs": [
    {
     "name": "stdout",
     "output_type": "stream",
     "text": [
      "6572\n"
     ]
    }
   ],
   "source": [
    "frame = np.zeros((X+1, Y+1)).tolist()\n",
    "for ligne in data :\n",
    "    if verif_hor_vert(ligne):\n",
    "        #print(ligne)\n",
    "        try:\n",
    "            x1,x2 = get_xs(ligne)\n",
    "            y1,y2 = get_ys(ligne)\n",
    "            \n",
    "            increase_value(x1,x2,y1,y2,frame)\n",
    "        except:\n",
    "            print(ligne)\n",
    "            print(x1,x2,y1,y2)\n",
    "            print(\"-----------------------\")\n",
    "        \n",
    "zone_danger =0\n",
    "for i, ligne in enumerate(frame):\n",
    "    for j,c in enumerate(ligne):\n",
    "        if c>1:\n",
    "            #print(i,j)\n",
    "            zone_danger+=1\n",
    "print(zone_danger)   "
   ]
  },
  {
   "cell_type": "code",
   "execution_count": 8,
   "id": "65cfd891-952c-4c0e-8df6-77808b7f51c4",
   "metadata": {
    "tags": []
   },
   "outputs": [
    {
     "name": "stdout",
     "output_type": "stream",
     "text": [
      "21466\n"
     ]
    }
   ],
   "source": [
    "# partie 2\n",
    "def get_xy(ligne):\n",
    "    x1,x2 = int(ligne.split(\",\")[0]),int((ligne.split(\">\")[1].split(\",\")[0]).strip())\n",
    "    y1,y2 = int((ligne.split(\",\")[1].split(\"-\")[0]).strip()), int(ligne.split(\",\")[-1])\n",
    "    return x1,x2,y1,y2\n",
    "def increase_diag(x1,x2,y1,y2,dt):\n",
    "    i = min(x1,x2)\n",
    "    if i == x1:\n",
    "        j = y1\n",
    "        gap = y2-y1\n",
    "    else: \n",
    "        j = y2\n",
    "        gap = y1-y2\n",
    "    n = 1\n",
    "    if gap>0:\n",
    "        incr = 1\n",
    "    else:\n",
    "        incr = -1\n",
    "    while n<=abs(gap)+1:\n",
    "        if gap>0:\n",
    "            dt[j][i]+=1\n",
    "        else:\n",
    "            dt[j][i]+=1\n",
    "        \n",
    "        n+=1\n",
    "        i+=1\n",
    "        j+=incr\n",
    " #.........................................       \n",
    "frame2 = np.zeros((X+1, Y+1)).tolist()\n",
    "for ligne in data :\n",
    "    x1,x2 = get_xs(ligne)\n",
    "    y1,y2 = get_ys(ligne)\n",
    "    if verif_hor_vert(ligne):\n",
    "        increase_value(x1,x2,y1,y2,frame2)\n",
    "        pass\n",
    "    else:\n",
    "        \n",
    "        x1,x2,y1,y2 =get_xy(ligne)\n",
    "        increase_diag(x1,x2,y1,y2,frame2)\n",
    "  \n",
    "\n",
    "zone_danger =0\n",
    "for i, ligne in enumerate(frame2):\n",
    "    for j,c in enumerate(ligne):\n",
    "        if c>1:\n",
    "            #print(i,j)\n",
    "            zone_danger+=1\n",
    "print(zone_danger)   "
   ]
  },
  {
   "cell_type": "code",
   "execution_count": null,
   "id": "176886be-a610-4232-80b1-1e922f6acb09",
   "metadata": {},
   "outputs": [],
   "source": []
  }
 ],
 "metadata": {
  "kernelspec": {
   "display_name": "Python 3 (ipykernel)",
   "language": "python",
   "name": "python3"
  },
  "language_info": {
   "codemirror_mode": {
    "name": "ipython",
    "version": 3
   },
   "file_extension": ".py",
   "mimetype": "text/x-python",
   "name": "python",
   "nbconvert_exporter": "python",
   "pygments_lexer": "ipython3",
   "version": "3.9.12"
  }
 },
 "nbformat": 4,
 "nbformat_minor": 5
}
