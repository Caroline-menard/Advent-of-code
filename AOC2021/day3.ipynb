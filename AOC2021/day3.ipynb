{
 "cells": [
  {
   "cell_type": "code",
   "execution_count": 1,
   "id": "5085d31e-a074-404b-be1f-8a24e1943215",
   "metadata": {},
   "outputs": [],
   "source": [
    "\n",
    "with open('day3.txt') as file:\n",
    "    data = file.read().split(\"\\n\")"
   ]
  },
  {
   "cell_type": "code",
   "execution_count": 2,
   "id": "95b8714c-2ba3-4134-8411-d7b29d947e54",
   "metadata": {},
   "outputs": [
    {
     "name": "stdout",
     "output_type": "stream",
     "text": [
      "gamma: 1174 et espilon: 2921\n",
      "3429254\n",
      "CPU times: user 10 ms, sys: 1.14 ms, total: 11.2 ms\n",
      "Wall time: 10.2 ms\n"
     ]
    }
   ],
   "source": [
    "%%time\n",
    "#partie 1\n",
    "from collections import defaultdict\n",
    "sums = defaultdict(lambda: 0)\n",
    "for ligne in data:\n",
    "    for i , bit in enumerate(ligne):\n",
    "        sums[str(i)] += int(bit)\n",
    "\n",
    "gamma = \"\"\n",
    "espilon = \"\"\n",
    "for pos, val in sums.items():\n",
    "    if val > len(data)/2:\n",
    "        gamma += \"1\"\n",
    "        espilon += \"0\"\n",
    "    else : \n",
    "        gamma += \"0\"\n",
    "        espilon += \"1\"\n",
    "print(f\"gamma: {int(gamma,2)} et espilon: {int(espilon,2)}\")\n",
    "print(int(gamma,2)*int(espilon,2))"
   ]
  },
  {
   "cell_type": "code",
   "execution_count": 3,
   "id": "4e43df48-64a1-4c25-8304-4526f3ccdd76",
   "metadata": {},
   "outputs": [],
   "source": [
    "def get_most_common_bit(sub_data):\n",
    "    sums = defaultdict(lambda: 0)\n",
    "    for ligne in sub_data:\n",
    "        for i , bit in enumerate(ligne):\n",
    "            sums[str(i)] += int(bit)\n",
    "    return sums\n",
    "\n"
   ]
  },
  {
   "cell_type": "code",
   "execution_count": 4,
   "id": "a1c09a23-8fd8-454b-b39a-732189515155",
   "metadata": {},
   "outputs": [
    {
     "name": "stdout",
     "output_type": "stream",
     "text": [
      "5410338\n",
      "CPU times: user 31.8 ms, sys: 2.03 ms, total: 33.9 ms\n",
      "Wall time: 33 ms\n"
     ]
    }
   ],
   "source": [
    "%%time\n",
    "#part 2\n",
    "data1 = data.copy()\n",
    "stop = len(data[0])\n",
    "n = 0\n",
    "while n< stop+1:\n",
    "    new_data = []\n",
    "    bit = get_most_common_bit(data1).get(str(n))\n",
    "    \n",
    "    if bit >= int(len(data1)/2):\n",
    "        track = \"1\"\n",
    "    else :\n",
    "        track=\"0\"\n",
    "    for row in data1:\n",
    "        if len(row)>0 and row[n]==track:\n",
    "            new_data.append(row)\n",
    "    data1 = new_data.copy()  \n",
    "    n+=1\n",
    "    if len(data1)==1:\n",
    "        oxygen =data1[0]\n",
    "        break\n",
    "        \n",
    "data1 = data.copy()\n",
    "stop = len(data[0])\n",
    "n = 0\n",
    "while n< stop+1:\n",
    "    new_data = []\n",
    "    bit = get_most_common_bit(data1).get(str(n))\n",
    "    \n",
    "    if bit < int(len(data1)/2):\n",
    "        track = \"1\"\n",
    "    else :\n",
    "        track=\"0\"\n",
    "    for row in data1:\n",
    "        if len(row)>0 and row[n]==track:\n",
    "            new_data.append(row)\n",
    "    data1 = new_data.copy()  \n",
    "    n+=1\n",
    "    if len(data1)==1:\n",
    "        co2 =data1[0]\n",
    "        break\n",
    "        \n",
    "print(int(oxygen,2)*int(co2,2))"
   ]
  },
  {
   "cell_type": "code",
   "execution_count": null,
   "id": "2bc6e99e-3106-4faa-8e6e-4b4aac444b60",
   "metadata": {},
   "outputs": [],
   "source": []
  }
 ],
 "metadata": {
  "kernelspec": {
   "display_name": "Python 3 (ipykernel)",
   "language": "python",
   "name": "python3"
  },
  "language_info": {
   "codemirror_mode": {
    "name": "ipython",
    "version": 3
   },
   "file_extension": ".py",
   "mimetype": "text/x-python",
   "name": "python",
   "nbconvert_exporter": "python",
   "pygments_lexer": "ipython3",
   "version": "3.9.12"
  }
 },
 "nbformat": 4,
 "nbformat_minor": 5
}
