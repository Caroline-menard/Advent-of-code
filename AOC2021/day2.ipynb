{
 "cells": [
  {
   "cell_type": "code",
   "execution_count": 1,
   "id": "abc5e416-f0d5-4cb6-be8a-c068f0558a5d",
   "metadata": {},
   "outputs": [],
   "source": [
    "with open(\"day2.txt\") as file:\n",
    "    data = file.read().split(\"\\n\")\n",
    "   "
   ]
  },
  {
   "cell_type": "code",
   "execution_count": 2,
   "id": "b4bdc9f7-8a47-4905-b6d6-038247fe368f",
   "metadata": {},
   "outputs": [
    {
     "name": "stdout",
     "output_type": "stream",
     "text": [
      "1938402\n",
      "CPU times: user 1.8 ms, sys: 617 µs, total: 2.42 ms\n",
      "Wall time: 1.95 ms\n"
     ]
    }
   ],
   "source": [
    "%%time\n",
    "#part1\n",
    "x=0\n",
    "y=0\n",
    "for row in data:\n",
    "    if len(row)>2:\n",
    "        orientation, taille = row.split()[0],int(row.split()[1])\n",
    "        if orientation == \"forward\":\n",
    "            x += taille\n",
    "        elif orientation == \"down\":\n",
    "            y += taille\n",
    "        else:\n",
    "            y-= taille\n",
    "\n",
    "print(x*y)"
   ]
  },
  {
   "cell_type": "code",
   "execution_count": 3,
   "id": "e1051ceb-d812-4e32-b77d-82a719b0820d",
   "metadata": {},
   "outputs": [
    {
     "name": "stdout",
     "output_type": "stream",
     "text": [
      "1947878632\n",
      "CPU times: user 1.49 ms, sys: 111 µs, total: 1.6 ms\n",
      "Wall time: 1.56 ms\n"
     ]
    }
   ],
   "source": [
    "%%time\n",
    "#part 2\n",
    "x=0\n",
    "y=0\n",
    "aim = 0\n",
    "for row in data:\n",
    "    if len(row)>2:\n",
    "        orientation, step = row.split()[0],int(row.split()[1])\n",
    "        if orientation == \"forward\":\n",
    "            y += step*aim\n",
    "            x += step\n",
    "            \n",
    "        elif orientation == \"down\":\n",
    "            aim += step\n",
    "        else:\n",
    "            aim -= step\n",
    "    \n",
    "\n",
    "print(x*y)"
   ]
  },
  {
   "cell_type": "code",
   "execution_count": null,
   "id": "73cbc1bf-15be-47de-8472-746bf1563ae3",
   "metadata": {},
   "outputs": [],
   "source": []
  }
 ],
 "metadata": {
  "kernelspec": {
   "display_name": "Python 3 (ipykernel)",
   "language": "python",
   "name": "python3"
  },
  "language_info": {
   "codemirror_mode": {
    "name": "ipython",
    "version": 3
   },
   "file_extension": ".py",
   "mimetype": "text/x-python",
   "name": "python",
   "nbconvert_exporter": "python",
   "pygments_lexer": "ipython3",
   "version": "3.9.12"
  }
 },
 "nbformat": 4,
 "nbformat_minor": 5
}
