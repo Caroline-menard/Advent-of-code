{
 "cells": [
  {
   "cell_type": "code",
   "execution_count": 1,
   "id": "11f5892d-6c13-4b10-ae5e-a9f2db984a52",
   "metadata": {},
   "outputs": [],
   "source": [
    "import numpy as np\n",
    "with open(\"day7.txt\") as file:\n",
    "    data = file.read()\n",
    "data = [int(i) for i in data.split(\",\")]\n"
   ]
  },
  {
   "cell_type": "code",
   "execution_count": 2,
   "id": "1928ed6d-23db-489b-b1d1-5da7d3688b5a",
   "metadata": {},
   "outputs": [
    {
     "name": "stdout",
     "output_type": "stream",
     "text": [
      "344605\n",
      "341.0 344605.0\n"
     ]
    }
   ],
   "source": [
    "#part 1\n",
    "maxpos = max(data)\n",
    "def calcul_fuel(p):\n",
    "    return sum(abs(p-crab) for crab in data)\n",
    "\n",
    "fuel_use = [calcul_fuel(pos) for pos in range(0, maxpos)]    \n",
    "print(min(fuel_use))\n",
    "# autre methode\n",
    "print(np.median(data),calcul_fuel(np.median(data)))"
   ]
  },
  {
   "cell_type": "code",
   "execution_count": 6,
   "id": "8901341d-34a9-4b0a-9575-bbb813badba7",
   "metadata": {},
   "outputs": [
    {
     "name": "stdout",
     "output_type": "stream",
     "text": [
      "93699985\n",
      "CPU times: user 21.8 s, sys: 86.1 ms, total: 21.9 s\n",
      "Wall time: 22.1 s\n"
     ]
    }
   ],
   "source": [
    "%%time\n",
    "#part2\n",
    "test = data.copy()\n",
    "def calcul_fuel2(p):\n",
    "    return sum(sum(range(0,abs(p-crab)+1)) for crab in data)\n",
    "fuel_use2 = [calcul_fuel2(pos) for pos in range(0, max(data)+1)]  \n",
    "\n",
    "print(min(fuel_use2))"
   ]
  },
  {
   "cell_type": "code",
   "execution_count": 9,
   "id": "9aca82fd-556f-4139-9d28-cca2bb54db50",
   "metadata": {},
   "outputs": [
    {
     "name": "stdout",
     "output_type": "stream",
     "text": [
      "93699985.0\n",
      "CPU times: user 919 ms, sys: 7.09 ms, total: 926 ms\n",
      "Wall time: 945 ms\n"
     ]
    }
   ],
   "source": [
    "%%time\n",
    "test = data.copy() \n",
    "fonction = lambda x: sum(((x-i)**2+abs(x-i))/2 for i in test)\n",
    "print(min(fonction(x) for x in range(0,max(test)+1)))\n"
   ]
  },
  {
   "cell_type": "code",
   "execution_count": 10,
   "id": "e44d53f0-e4e4-4079-9273-2749031bcaa0",
   "metadata": {},
   "outputs": [
    {
     "data": {
      "text/plain": [
       "[<matplotlib.lines.Line2D at 0x11b64e8e0>]"
      ]
     },
     "execution_count": 10,
     "metadata": {},
     "output_type": "execute_result"
    },
    {
     "data": {
      "image/png": "[encoded data removed]",
      "text/plain": [
       "<Figure size 432x288 with 1 Axes>"
      ]
     },
     "metadata": {
      "needs_background": "light"
     },
     "output_type": "display_data"
    }
   ],
   "source": [
    "import matplotlib.pyplot as plt\n",
    "plt.plot(range(0,max(test)+1),[fonction(i) for i in range(0,max(test)+1)])"
   ]
  },
  {
   "cell_type": "code",
   "execution_count": null,
   "id": "97ea4778-23a3-4d6d-bbbf-b12b0a55f4a4",
   "metadata": {},
   "outputs": [],
   "source": []
  }
 ],
 "metadata": {
  "kernelspec": {
   "display_name": "Python 3 (ipykernel)",
   "language": "python",
   "name": "python3"
  },
  "language_info": {
   "codemirror_mode": {
    "name": "ipython",
    "version": 3
   },
   "file_extension": ".py",
   "mimetype": "text/x-python",
   "name": "python",
   "nbconvert_exporter": "python",
   "pygments_lexer": "ipython3",
   "version": "3.9.12"
  }
 },
 "nbformat": 4,
 "nbformat_minor": 5
}
