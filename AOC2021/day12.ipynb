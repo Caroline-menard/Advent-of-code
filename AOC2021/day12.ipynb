{
 "cells": [
  {
   "cell_type": "code",
   "execution_count": 1,
   "id": "cf137679-b5da-49f1-af83-48a6c4784bd4",
   "metadata": {},
   "outputs": [],
   "source": [
    "with open(\"day12.txt\") as file:\n",
    "    test = file.read().split(\"\\n\")\n",
    "test =[(x.split(\"-\")[0],x.split(\"-\")[1]) for x in test]"
   ]
  },
  {
   "cell_type": "code",
   "execution_count": 2,
   "id": "56d70e41-0177-4e15-8d0a-a2e2dfede2ce",
   "metadata": {},
   "outputs": [],
   "source": [
    "def give_next_steps(cave):\n",
    "    gate =  [{i,j} for (i,j) in test if cave in (i,j)]\n",
    "    gate = list(list(set(x).difference({cave,\"start\"})) for x in gate)\n",
    "    gate =[x[0] for x in gate if len(x)>0]\n",
    "    return gate\n",
    "\n",
    "def clean_next_steps(current_path,next_step):\n",
    "    next_authorized_steps =[]\n",
    "    for i in next_step:\n",
    "        if i.lower() != i:\n",
    "            next_authorized_steps.append(i)\n",
    "        else:\n",
    "            if i not in current_path:\n",
    "                next_authorized_steps.append(i)\n",
    "    return next_authorized_steps\n",
    "\n",
    "def get_path(gate,current_path=None):\n",
    "    path_list =list()\n",
    "    current_path =  current_path or [\"start\"]\n",
    "    next_step = give_next_steps(gate)\n",
    "    next_step = clean_next_steps(current_path, next_step)\n",
    "    \n",
    "    for i in next_step:\n",
    "    \n",
    "        current_path.append(i)\n",
    "\n",
    "        path_list.append(current_path.copy())\n",
    "        current_path.pop()\n",
    "            \n",
    "    return path_list\n",
    "            "
   ]
  },
  {
   "cell_type": "code",
   "execution_count": 3,
   "id": "a67a3e18-6bcf-4abb-8f34-213f6421b922",
   "metadata": {
    "tags": []
   },
   "outputs": [
    {
     "name": "stdout",
     "output_type": "stream",
     "text": [
      "4573\n"
     ]
    }
   ],
   "source": [
    "#part 1\n",
    "step = \"start\"\n",
    "path_list = list()\n",
    "continuer =True\n",
    "sub_path = get_path(step)\n",
    "\n",
    "while  continuer: \n",
    "    new_sub_path = []\n",
    "    for p in sub_path :\n",
    "        if p[-1]=='end':\n",
    "            if p not in path_list:\n",
    "                path_list.append(p)\n",
    "            \n",
    "        else:\n",
    "            sp = get_path(p[-1],p)\n",
    "            new_sub_path += sp\n",
    "          \n",
    "    sub_path =new_sub_path\n",
    "    if len(sub_path) == 0:\n",
    "        break\n",
    "    \n",
    "print(len(path_list))"
   ]
  },
  {
   "cell_type": "code",
   "execution_count": 4,
   "id": "9c46484f-1c91-491f-b80e-60a6aaf9275b",
   "metadata": {},
   "outputs": [],
   "source": [
    "def clean_next_steps2(current_path,next_step):\n",
    "    next_authorized_steps =[]\n",
    "    for i in next_step:\n",
    "        if not i.islower():\n",
    "            next_authorized_steps.append(i)\n",
    "        else:\n",
    "            if i in current_path and any(current_path.count(gate) == 2 for gate in current_path if gate.islower()):  \n",
    "                continue\n",
    "                \n",
    "            else:\n",
    "                next_authorized_steps.append(i)\n",
    "                \n",
    "           \n",
    "    return next_authorized_steps\n",
    "\n",
    "def get_path2(gate,current_path=None):\n",
    "    path_list =list()\n",
    "    current_path =  current_path or [\"start\"]\n",
    "    next_step = give_next_steps(gate)\n",
    "    next_step = clean_next_steps2(current_path, next_step)\n",
    "    #print(gate,next_step)\n",
    "    for i in next_step:\n",
    "    \n",
    "        current_path.append(i)\n",
    "\n",
    "        path_list.append(current_path.copy())\n",
    "        current_path.pop()\n",
    "            \n",
    "    return path_list\n",
    "    "
   ]
  },
  {
   "cell_type": "code",
   "execution_count": 5,
   "id": "1721f4ac-14f0-47bb-8c45-a0051f820f8b",
   "metadata": {},
   "outputs": [
    {
     "name": "stdout",
     "output_type": "stream",
     "text": [
      "10\n",
      "48\n",
      "193\n",
      "693\n",
      "2131\n",
      "6192\n",
      "15452\n",
      "32124\n",
      "53580\n",
      "72885\n",
      "84048\n",
      "72034\n",
      "35557\n",
      "7512\n",
      "0\n",
      "____________\n",
      "resultat: 117509\n",
      "CPU times: user 3.76 s, sys: 34 ms, total: 3.8 s\n",
      "Wall time: 3.8 s\n"
     ]
    }
   ],
   "source": [
    "%%time\n",
    "#part2\n",
    "step = \"start\"\n",
    "path_list = 0  #list()\n",
    "continuer =True\n",
    "sub_path = get_path2(step)\n",
    "n=0\n",
    "while  continuer: \n",
    "    new_sub_path = []\n",
    "    for p in sub_path :\n",
    "        if p[-1]=='end':\n",
    "            #if p not in path_list:\n",
    "            path_list+=1 #.append(p)\n",
    "            \n",
    "        else:\n",
    "            sp = get_path2(p[-1],p)\n",
    "            new_sub_path += sp\n",
    "    n+=1     \n",
    "    sub_path =new_sub_path\n",
    "    print(len(sub_path))\n",
    "    if len(sub_path) == 0:\n",
    "\n",
    "        break\n",
    "print(\"____________\")\n",
    "print(\"resultat:\",path_list)"
   ]
  }
 ],
 "metadata": {
  "kernelspec": {
   "display_name": "Python 3 (ipykernel)",
   "language": "python",
   "name": "python3"
  },
  "language_info": {
   "codemirror_mode": {
    "name": "ipython",
    "version": 3
   },
   "file_extension": ".py",
   "mimetype": "text/x-python",
   "name": "python",
   "nbconvert_exporter": "python",
   "pygments_lexer": "ipython3",
   "version": "3.9.12"
  }
 },
 "nbformat": 4,
 "nbformat_minor": 5
}
