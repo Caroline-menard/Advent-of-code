{
 "cells": [
  {
   "cell_type": "code",
   "execution_count": 1,
   "id": "56e19b88-8aea-4014-ac17-17e0b05e8452",
   "metadata": {},
   "outputs": [
    {
     "data": {
      "text/plain": [
       "''"
      ]
     },
     "execution_count": 1,
     "metadata": {},
     "output_type": "execute_result"
    }
   ],
   "source": [
    "with open(\"day22.txt\") as file:\n",
    "    data = file.read().split(\"\\n\")\n",
    "data.pop()"
   ]
  },
  {
   "cell_type": "code",
   "execution_count": 2,
   "id": "d47eee5d-e4d4-4060-9cfd-7650b472b342",
   "metadata": {},
   "outputs": [],
   "source": [
    "grille = {}\n",
    "for x in range(-50,51):\n",
    "    for y in range(-50,51):\n",
    "        for z in range(-50,51):\n",
    "            grille[(x,y,z)] = \"off\""
   ]
  },
  {
   "cell_type": "code",
   "execution_count": 3,
   "id": "95d353c4-2977-4fd1-8fb2-0d42ca71798a",
   "metadata": {
    "tags": []
   },
   "outputs": [],
   "source": [
    "test=\"x=-45..1,y=-25..23,z=-14..35\"\n",
    "def select_cubes(instructions):\n",
    "    x0,x1 = instructions.split(\",\")[0].split(\"=\")[1].split(\"..\")\n",
    "    y0,y1 = instructions.split(\",\")[1].split(\"=\")[1].split(\"..\")\n",
    "    z0,z1 = instructions.split(\",\")[2].split(\"=\")[1].split(\"..\")\n",
    "    liste_x = [(x,y,z) for (x,y,z) in grille.keys() if x>=int(x0) and x<=int(x1)]\n",
    "    if len(liste_x)==0:\n",
    "        return False\n",
    "    liste_y = [(x,y,z) for (x,y,z) in liste_x if y>=int(y0) and y<=int(y1)]\n",
    "    if len(liste_y)==0:\n",
    "        return False\n",
    "    listefinale = [(x,y,z) for (x,y,z) in liste_y if z>=int(z0) and z<=int(z1)]\n",
    "    if len(listefinale)==0:\n",
    "        return False\n",
    "    return listefinale\n"
   ]
  },
  {
   "cell_type": "code",
   "execution_count": 4,
   "id": "d799ad8f-d945-4aed-ba44-29205d6611e5",
   "metadata": {},
   "outputs": [],
   "source": [
    "def change_grille(grille,cubes,on_off):\n",
    "    new_grille = grille.copy()\n",
    "    for x in cubes:\n",
    "        new_grille[x] = on_off\n",
    "    return new_grille"
   ]
  },
  {
   "cell_type": "code",
   "execution_count": 5,
   "id": "81114458-319a-4e4a-bc19-0c7bc6eab44d",
   "metadata": {
    "tags": []
   },
   "outputs": [],
   "source": [
    "g = grille.copy()\n",
    "for i in data :\n",
    "    on_off, cubes = i.split(\" \")[0].strip(),i.split(\" \")[1].strip()\n",
    "    to_change = select_cubes(cubes)\n",
    "    if to_change:\n",
    "        g = change_grille(g,to_change,on_off)"
   ]
  },
  {
   "cell_type": "code",
   "execution_count": 6,
   "id": "2dae2c0d-9538-44c1-b6b0-1147ff4518c8",
   "metadata": {},
   "outputs": [
    {
     "data": {
      "text/plain": [
       "596598"
      ]
     },
     "execution_count": 6,
     "metadata": {},
     "output_type": "execute_result"
    }
   ],
   "source": [
    "#part1\n",
    "N = len([x for x in g if g[x]=='on'])\n",
    "N"
   ]
  },
  {
   "cell_type": "code",
   "execution_count": 7,
   "id": "5954f088-2a08-48e3-990b-c40fee7a2318",
   "metadata": {},
   "outputs": [],
   "source": [
    "#partie 2 \n",
    "def give_cubes_coord(instructions):\n",
    "    liste_cubes =set()\n",
    "    x0,x1 = instructions.split(\",\")[0].split(\"=\")[1].split(\"..\")\n",
    "    y0,y1 = instructions.split(\",\")[1].split(\"=\")[1].split(\"..\")\n",
    "    z0,z1 = instructions.split(\",\")[2].split(\"=\")[1].split(\"..\")\n",
    "    \n",
    "    return (int(x0),int(x1),int(y0),int(y1),int(z0),int(z1))"
   ]
  },
  {
   "cell_type": "code",
   "execution_count": 8,
   "id": "bed09695-fa41-419b-9c2b-b045c9ebe1ec",
   "metadata": {
    "tags": []
   },
   "outputs": [],
   "source": [
    "instruction = []\n",
    "for i in data :\n",
    "    on_off, cubes = i.split(\" \")[0].strip(),i.split(\" \")[1].strip()\n",
    "    to_change = give_cubes_coord(cubes)\n",
    "    instruction.append((to_change,on_off))\n",
    "    "
   ]
  },
  {
   "cell_type": "code",
   "execution_count": 9,
   "id": "4b43f3c7-5a75-4c37-8106-ce33aa022425",
   "metadata": {},
   "outputs": [],
   "source": [
    "from collections import defaultdict"
   ]
  },
  {
   "cell_type": "code",
   "execution_count": 10,
   "id": "d55a1d51-43a8-45e6-bab1-75c903b7aa85",
   "metadata": {},
   "outputs": [],
   "source": [
    "#-*****---\n",
    "#-*****---\n",
    "#-***^^^--\n",
    "#----^^^--\n",
    "#----^^^--\n",
    "#   max(x1,X1_)\n",
    "def vol_calculator(c):\n",
    "    return (abs(c[0]-c[1])+1)*(abs(c[2]-c[3])+1)*(abs(c[4]-c[5])+1)\n",
    "\n",
    "def give_intersection(c1,c2):\n",
    "    x1c1,x2c1, y1c1,y2c1, z1c1,z2c1 = c1\n",
    "    x1c2,x2c2, y1c2,y2c2, z1c2,z2c2 = c2\n",
    "    \n",
    "    xmin,xmax  = max(x1c1,x1c2),min(x2c1,x2c2)\n",
    "    ymin,ymax  = max(y1c1,y1c2),min(y2c1,y2c2)\n",
    "    zmin,zmax  = max(z1c1,z1c2),min(z2c1,z2c2)\n",
    "    if xmin<xmax and ymin<ymax and zmin<zmax:\n",
    "            return xmin,xmax,ymin, ymax,zmin,zmax\n",
    "    else: \n",
    "        return False\n",
    "    \n",
    "    \n",
    "    "
   ]
  },
  {
   "cell_type": "code",
   "execution_count": 11,
   "id": "3268793e-f0d8-4160-97d8-17f37d312941",
   "metadata": {},
   "outputs": [],
   "source": [
    "def get_all_intersections():\n",
    "    all_intersections = defaultdict(lambda:0)\n",
    "   \n",
    "    for cube0, on_off in instruction:\n",
    "        keys = list(all_intersections.keys())\n",
    "        for cube1 in keys:\n",
    "            if cube0 != cube1:\n",
    "                inters = give_intersection(cube0,cube1)\n",
    "                if inters:\n",
    "                    all_intersections[inters] -= all_intersections[cube1] #si cube1 est ON\n",
    "                       #il faudra soustraire l'intersection au resultats\n",
    "        if on_off == \"on\":\n",
    "            all_intersections[cube0]+=1\n",
    "            \n",
    "    return all_intersections"
   ]
  },
  {
   "cell_type": "code",
   "execution_count": 12,
   "id": "8b5ab3e1-f2ee-49a7-b937-2a1482d09e18",
   "metadata": {},
   "outputs": [
    {
     "name": "stdout",
     "output_type": "stream",
     "text": [
      "CPU times: user 1.41 s, sys: 3.62 ms, total: 1.41 s\n",
      "Wall time: 1.41 s\n"
     ]
    },
    {
     "data": {
      "text/plain": [
       "1199121349148621"
      ]
     },
     "execution_count": 12,
     "metadata": {},
     "output_type": "execute_result"
    }
   ],
   "source": [
    "%%time\n",
    "#part 2\n",
    "all_intersections = get_all_intersections()\n",
    "n_cubes = sum(vol_calculator(cube)*coef for cube,coef in all_intersections.items())\n",
    "n_cubes"
   ]
  },
  {
   "cell_type": "code",
   "execution_count": null,
   "id": "119f6ebd-8834-41b0-8070-5b8433b340ac",
   "metadata": {},
   "outputs": [],
   "source": []
  }
 ],
 "metadata": {
  "kernelspec": {
   "display_name": "Python 3 (ipykernel)",
   "language": "python",
   "name": "python3"
  },
  "language_info": {
   "codemirror_mode": {
    "name": "ipython",
    "version": 3
   },
   "file_extension": ".py",
   "mimetype": "text/x-python",
   "name": "python",
   "nbconvert_exporter": "python",
   "pygments_lexer": "ipython3",
   "version": "3.9.12"
  }
 },
 "nbformat": 4,
 "nbformat_minor": 5
}
