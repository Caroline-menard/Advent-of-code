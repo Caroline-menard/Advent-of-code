{
 "cells": [
  {
   "cell_type": "code",
   "execution_count": null,
   "id": "8d90b142-44c5-4b50-aa27-9cbec3d6f484",
   "metadata": {},
   "outputs": [],
   "source": [
    "import re\n",
    "with open(\"day5.txt\") as file:\n",
    "    data = file.read().split(\"\\n\")"
   ]
  },
  {
   "cell_type": "raw",
   "id": "8dc8dab6-67a9-495c-a4e1-44434fb02373",
   "metadata": {},
   "source": [
    "[V]         [T]         [J]        \n",
    "[Q]         [M] [P]     [Q]     [J]\n",
    "[W] [B]     [N] [Q]     [C]     [T]\n",
    "[M] [C]     [F] [N]     [G] [W] [G]\n",
    "[B] [W] [J] [H] [L]     [R] [B] [C]\n",
    "[N] [R] [R] [W] [W] [W] [D] [N] [F]\n",
    "[Z] [Z] [Q] [S] [F] [P] [B] [Q] [L]\n",
    "[C] [H] [F] [Z] [G] [L] [V] [Z] [H]\n",
    " 1   2   3   4   5   6   7   8   9 "
   ]
  },
  {
   "cell_type": "code",
   "execution_count": null,
   "id": "f9ce41be-051e-4231-a181-29bfee1f71e0",
   "metadata": {},
   "outputs": [],
   "source": [
    "intial_positions = {1:[\"C\",\"Z\",\"N\",\"B\",\"M\",\"W\",\"Q\",\"V\"],\n",
    "             2:[\"H\",\"Z\",\"R\",\"W\",\"C\",\"B\"],\n",
    "             3:[\"F\",\"Q\",\"R\",\"J\"],\n",
    "             4:[\"Z\",\"S\",\"W\",\"H\",\"F\",\"N\",\"M\",\"T\"],\n",
    "             5:[\"G\",\"F\",\"W\",\"L\",\"N\",\"Q\",\"P\"],\n",
    "             6:[\"L\",\"P\",\"W\"],\n",
    "             7:[\"V\",\"B\",\"D\",\"R\",\"G\",\"C\",\"Q\",\"J\"],\n",
    "             8:[\"Z\",\"Q\",\"N\",\"B\",\"W\"],\n",
    "             9:[\"H\",\"L\",\"F\",\"C\",\"G\",\"T\",\"J\"]}"
   ]
  },
  {
   "cell_type": "markdown",
   "id": "0e4e0c7e-5f45-47b3-a24a-7e1df2e89001",
   "metadata": {},
   "source": [
    "Part 1"
   ]
  },
  {
   "cell_type": "code",
   "execution_count": null,
   "id": "3818d28a-9ed4-4724-83ad-d44ec6f329b9",
   "metadata": {
    "tags": []
   },
   "outputs": [],
   "source": [
    "%%time\n",
    "positions = intial_positions.copy()\n",
    "print(\"Initial\")\n",
    "for u,v in positions.items():\n",
    "    print(u,v)\n",
    "print()\n",
    "print()\n",
    "expr = r'move (.*?) from (.*?) to (.*?)'\n",
    "for code in data:\n",
    "    n,s1,s2 = str(re.sub(expr, r'\\1 \\2 \\3', code).strip()).split(\" \")\n",
    "    n,s1,s2 = int(n),int(s1),int(s2)\n",
    "    positions[s2]=positions[s2] +list(reversed( positions[s1][-n:]))\n",
    "    positions[s1]= positions[s1][:-n]\n",
    "print(\"final\")\n",
    "for u,v in positions.items():\n",
    "    print(u,v)\n",
    "print()\n",
    "print()\n",
    "print(\"solution:\")\n",
    "print(\"\".join(list(s[-1] for s in positions.values())))"
   ]
  },
  {
   "cell_type": "markdown",
   "id": "c45dd8bb-63cc-4793-93e9-9638cefe852c",
   "metadata": {},
   "source": [
    "Part 2 "
   ]
  },
  {
   "cell_type": "code",
   "execution_count": null,
   "id": "48eef0ba-5ff6-4925-b55f-e61610c4c5ae",
   "metadata": {},
   "outputs": [],
   "source": [
    "%%time\n",
    "positions = intial_positions.copy()\n",
    "print(\"Initial\")\n",
    "for u,v in positions.items():\n",
    "    print(u,v)\n",
    "print()\n",
    "print()\n",
    "expr = r'move (.*?) from (.*?) to (.*?)'\n",
    "for code in data:\n",
    "    n,s1,s2 = str(re.sub(expr, r'\\1 \\2 \\3', code).strip()).split(\" \")\n",
    "    n,s1,s2 = int(n),int(s1),int(s2)\n",
    "    positions[s2]=positions[s2] +positions[s1][-n:]\n",
    "    positions[s1]= positions[s1][:-n]\n",
    "print(\"final\")\n",
    "for u,v in positions.items():\n",
    "    print(u,v)\n",
    "print()\n",
    "print()\n",
    "print(\"solution:\")\n",
    "print(\"\".join(list(s[-1] for s in positions.values())))"
   ]
  },
  {
   "cell_type": "code",
   "execution_count": null,
   "id": "a3fdf6cf-2779-4f8b-9b06-9062c586b1df",
   "metadata": {},
   "outputs": [],
   "source": []
  }
 ],
 "metadata": {
  "kernelspec": {
   "display_name": "Python 3 (ipykernel)",
   "language": "python",
   "name": "python3"
  },
  "language_info": {
   "codemirror_mode": {
    "name": "ipython",
    "version": 3
   },
   "file_extension": ".py",
   "mimetype": "text/x-python",
   "name": "python",
   "nbconvert_exporter": "python",
   "pygments_lexer": "ipython3",
   "version": "3.9.12"
  }
 },
 "nbformat": 4,
 "nbformat_minor": 5
}
