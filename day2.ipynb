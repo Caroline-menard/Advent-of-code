{
 "cells": [
  {
   "cell_type": "code",
   "execution_count": 24,
   "id": "db9d53c9-0dda-46e7-9a24-e1220a3c8ffa",
   "metadata": {},
   "outputs": [],
   "source": [
    "with open(\"day2.txt\") as file:\n",
    "    data = file.read().split(\"\\n\")\n",
    "data = data[:-1]\n"
   ]
  },
  {
   "cell_type": "code",
   "execution_count": 25,
   "id": "4131f795-eda0-48c5-9d51-630d1350990e",
   "metadata": {},
   "outputs": [],
   "source": [
    "def win_loose(code):\n",
    "    dico = { \"win\":[\"C X\",\"B Z\",\"A Y\"],\"loose\":[\"A Z\",\"C Y\",\"B X\"],\n",
    "            \"null\":[\"A X\",\"C Z\",\"B Y\"]}\n",
    "    for u,v in dico.items():\n",
    "        if code in v:\n",
    "            return u\n",
    "def count_score(result):\n",
    "    dico = { \"win\":6,\"loose\":0,\"null\":3}\n",
    "    return dico[result]\n",
    "\n",
    "\n",
    "    "
   ]
  },
  {
   "cell_type": "code",
   "execution_count": 28,
   "id": "44d8435d-b7c8-4d73-b0bf-898356a97a6e",
   "metadata": {},
   "outputs": [
    {
     "name": "stdout",
     "output_type": "stream",
     "text": [
      "CPU times: user 3.63 ms, sys: 3 µs, total: 3.63 ms\n",
      "Wall time: 3.64 ms\n"
     ]
    },
    {
     "data": {
      "text/plain": [
       "10404"
      ]
     },
     "execution_count": 28,
     "metadata": {},
     "output_type": "execute_result"
    }
   ],
   "source": [
    "%%time\n",
    "#part 1 \n",
    "def win_loose(code):\n",
    "    dico = { \"win\":[\"C X\",\"B Z\",\"A Y\"],\"loose\":[\"A Z\",\"C Y\",\"B X\"],\n",
    "            \"null\":[\"A X\",\"C Z\",\"B Y\"]}\n",
    "    for u,v in dico.items():\n",
    "        if code in v:\n",
    "            return u\n",
    "def count_score(result):\n",
    "    dico = { \"win\":6,\"loose\":0,\"null\":3}\n",
    "    return dico[result]\n",
    "\n",
    "my_score = 0\n",
    "gain = {\"X\":1,\"Y\":2,\"Z\":3}\n",
    "for code in data:\n",
    "    \n",
    "    try:\n",
    "        my_choice = code.split(\" \")[1]\n",
    "        my_score+=count_score(win_loose(code))+gain[my_choice]\n",
    "    except:\n",
    "        print(code)\n",
    "        print(code.split(\" \"))\n",
    "my_score"
   ]
  },
  {
   "cell_type": "code",
   "execution_count": 49,
   "id": "064700b4-2ec8-406e-915d-bfcd8195718d",
   "metadata": {
    "tags": []
   },
   "outputs": [
    {
     "name": "stdout",
     "output_type": "stream",
     "text": [
      "CPU times: user 3.13 ms, sys: 1 µs, total: 3.13 ms\n",
      "Wall time: 3.15 ms\n"
     ]
    },
    {
     "data": {
      "text/plain": [
       "10334"
      ]
     },
     "execution_count": 49,
     "metadata": {},
     "output_type": "execute_result"
    }
   ],
   "source": [
    "\n",
    "#part 2\n",
    "%%time\n",
    "def get_my_choice(result, adverse_choice):\n",
    "    win ={\"A\":\"B\",\"B\":\"C\",\"C\":\"A\"}\n",
    "    loose = {\"A\":\"C\",\"B\":\"A\",\"C\":\"B\"}\n",
    "    if result == \"win\":\n",
    "        return win[adverse_choice]\n",
    "    if result == \"loose\":\n",
    "        return loose[adverse_choice]\n",
    "    else:\n",
    "        return adverse_choice\n",
    "result_table = {\"X\":[\"loose\",0],\"Y\":[\"null\",3] ,\"Z\":[\"win\",6]}\n",
    "gain = {\"A\":1,\"B\":2,\"C\":3}\n",
    "score=0\n",
    "for code in data :\n",
    "    adverse_choice,result =  code.split(\" \")\n",
    "    result_ = result_table[result][0]\n",
    "    my_choice = get_my_choice(result_, adverse_choice)\n",
    "    score += result_table.get(result)[1]+ gain.get(my_choice)\n",
    "score"
   ]
  }
 ],
 "metadata": {
  "kernelspec": {
   "display_name": "Python 3 (ipykernel)",
   "language": "python",
   "name": "python3"
  },
  "language_info": {
   "codemirror_mode": {
    "name": "ipython",
    "version": 3
   },
   "file_extension": ".py",
   "mimetype": "text/x-python",
   "name": "python",
   "nbconvert_exporter": "python",
   "pygments_lexer": "ipython3",
   "version": "3.9.12"
  }
 },
 "nbformat": 4,
 "nbformat_minor": 5
}
