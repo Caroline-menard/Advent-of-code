{
 "cells": [
  {
   "cell_type": "code",
   "execution_count": 9,
   "id": "5a6aeb76-36a3-4977-9722-94407cf9617e",
   "metadata": {},
   "outputs": [],
   "source": [
    "with open(\"day4.txt\") as file:\n",
    "    data = file.read().split(\"\\n\")"
   ]
  },
  {
   "cell_type": "code",
   "execution_count": 13,
   "id": "14672379-9c3d-438f-9153-e4199446102b",
   "metadata": {},
   "outputs": [],
   "source": [
    "#part 1"
   ]
  },
  {
   "cell_type": "code",
   "execution_count": 12,
   "id": "4554128d-b9a9-4897-8522-1d1cdc87d7e1",
   "metadata": {
    "tags": []
   },
   "outputs": [
    {
     "name": "stdout",
     "output_type": "stream",
     "text": [
      "CPU times: user 6.26 ms, sys: 135 µs, total: 6.39 ms\n",
      "Wall time: 6.38 ms\n"
     ]
    },
    {
     "data": {
      "text/plain": [
       "487"
      ]
     },
     "execution_count": 12,
     "metadata": {},
     "output_type": "execute_result"
    }
   ],
   "source": [
    "%%time\n",
    "fully_contained = 0\n",
    "for pair in data:\n",
    "    elve1,elve2 = pair.split(\",\")\n",
    "    elve1 = set(range(int(elve1.split(\"-\")[0]),int(elve1.split(\"-\")[1])+1))\n",
    "    elve2 = set(range(int(elve2.split(\"-\")[0]),int(elve2.split(\"-\")[1])+1))\n",
    "    if set.intersection(elve1,elve2) in [elve1,elve2]:\n",
    "        fully_contained += 1\n",
    "fully_contained "
   ]
  },
  {
   "cell_type": "code",
   "execution_count": 14,
   "id": "b79637f4-240f-4d6c-8b2b-7b07ab2900b2",
   "metadata": {},
   "outputs": [],
   "source": [
    "#part 2"
   ]
  },
  {
   "cell_type": "code",
   "execution_count": 15,
   "id": "0416b47c-803a-4a06-a817-c9d60eea3922",
   "metadata": {},
   "outputs": [
    {
     "name": "stdout",
     "output_type": "stream",
     "text": [
      "CPU times: user 6.43 ms, sys: 161 µs, total: 6.59 ms\n",
      "Wall time: 6.53 ms\n"
     ]
    },
    {
     "data": {
      "text/plain": [
       "849"
      ]
     },
     "execution_count": 15,
     "metadata": {},
     "output_type": "execute_result"
    }
   ],
   "source": [
    "%%time\n",
    "overlap = 0\n",
    "for pair in data:\n",
    "    elve1,elve2 = pair.split(\",\")\n",
    "    elve1 = set(range(int(elve1.split(\"-\")[0]),int(elve1.split(\"-\")[1])+1))\n",
    "    elve2 = set(range(int(elve2.split(\"-\")[0]),int(elve2.split(\"-\")[1])+1))\n",
    "    if len(set.intersection(elve1,elve2))!= 0 :\n",
    "        overlap += 1\n",
    "overlap "
   ]
  },
  {
   "cell_type": "code",
   "execution_count": null,
   "id": "30d19e03-b940-4ed4-ace9-f86773021c03",
   "metadata": {},
   "outputs": [],
   "source": []
  }
 ],
 "metadata": {
  "kernelspec": {
   "display_name": "Python 3 (ipykernel)",
   "language": "python",
   "name": "python3"
  },
  "language_info": {
   "codemirror_mode": {
    "name": "ipython",
    "version": 3
   },
   "file_extension": ".py",
   "mimetype": "text/x-python",
   "name": "python",
   "nbconvert_exporter": "python",
   "pygments_lexer": "ipython3",
   "version": "3.9.12"
  }
 },
 "nbformat": 4,
 "nbformat_minor": 5
}
