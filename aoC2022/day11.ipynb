{
 "cells": [
  {
   "cell_type": "code",
   "execution_count": 1,
   "id": "474ad4d1-113d-49f1-aa4f-fedd47f5ccf7",
   "metadata": {
    "tags": []
   },
   "outputs": [],
   "source": [
    "with open(\"day11.txt\") as file:\n",
    "    data = file.read().split(\"\\n\\n\")\n",
    "data = [d.split(\"\\n\") for d in data]\n"
   ]
  },
  {
   "cell_type": "code",
   "execution_count": 2,
   "id": "5d8214cb-530a-4859-9486-05ea918bf2a6",
   "metadata": {
    "tags": []
   },
   "outputs": [],
   "source": [
    "monkey_dict = dict()\n",
    "for m in data:\n",
    "    monkey =dict()\n",
    "    items = m[1].split(\":\")[1].strip()\n",
    "    items = [int(i) for i in items.split(\", \")]\n",
    "    monkey[\"items\"] = items\n",
    "    monkey[\"operation\"] = m[2].split(\"=\")[1].strip()\n",
    "    monkey[\"test\"] = int(m[3].split(\" \")[-1].strip())\n",
    "    monkey[\"True\"] = int(m[4].split(\" \")[-1].strip())\n",
    "    monkey[\"False\"] = int(m[5].split(\" \")[-1].strip())\n",
    "    monkey[\"inspected\"] = 0\n",
    "    monkey_dict[int(m[0].split(\" \")[1].replace(\":\",\"\").strip())] = monkey\n"
   ]
  },
  {
   "cell_type": "code",
   "execution_count": 3,
   "id": "df9cf42d-2315-4381-a0ac-f531a0183e12",
   "metadata": {},
   "outputs": [],
   "source": [
    "def operations(n1,n2,op):\n",
    "    if op==\"+\":\n",
    "        return n1+n2\n",
    "    if op==\"*\":\n",
    "        return n1*n2\n",
    "    \n",
    "def operation_and_test(object_worry, operation, test,diviser):\n",
    "  \n",
    "    worry = operation.replace('old',str(object_worry))\n",
    "    worry = worry.split()\n",
    "    worry = operations(int(worry[0]),int(worry[2]),worry[1])\n",
    "    if diviser:\n",
    "        worry = int(worry/3)\n",
    "    if worry%test==0:\n",
    "        return worry , \"true\"\n",
    "    else:\n",
    "        return worry ,\"false\"\n"
   ]
  },
  {
   "cell_type": "code",
   "execution_count": 4,
   "id": "2492ec9a-c8e3-4eb8-aeb7-e178350f33ea",
   "metadata": {},
   "outputs": [
    {
     "name": "stdout",
     "output_type": "stream",
     "text": [
      "9699690\n"
     ]
    }
   ],
   "source": [
    "ppcm = 1\n",
    "for n in monkey_dict.values():\n",
    "    ppcm *= n[\"test\"]\n",
    "print(ppcm)\n",
    "def excute_round(diviser,reduce):\n",
    "    for monkey in monkey_dict.values():\n",
    "       \n",
    "        for w in monkey['items'].copy():\n",
    "            worry, result = operation_and_test(w ,monkey['operation'],monkey['test'],diviser)\n",
    "            next_monkey = monkey[result.capitalize()]\n",
    "            monkey_dict[next_monkey]['items'].append(worry)\n",
    "            monkey['items'].pop()\n",
    "            monkey['inspected']+=1\n",
    "    if reduce:\n",
    "        for monkey in monkey_dict.values():\n",
    "            monkey['items'] = [i%ppcm for i in monkey['items']]\n",
    " "
   ]
  },
  {
   "cell_type": "code",
   "execution_count": 5,
   "id": "26791a3f-8339-4dde-b865-bdf2f5c5898a",
   "metadata": {
    "tags": []
   },
   "outputs": [
    {
     "name": "stdout",
     "output_type": "stream",
     "text": [
      "108240\n",
      "CPU times: user 5.41 ms, sys: 590 µs, total: 6 ms\n",
      "Wall time: 5.52 ms\n"
     ]
    }
   ],
   "source": [
    "%%time\n",
    "#part 1\n",
    "for i in range(0,20):\n",
    "    excute_round(True,False)\n",
    "level = sorted([m[\"inspected\"] for m in monkey_dict.values()])\n",
    "print(level[-1]*level[-2])"
   ]
  },
  {
   "cell_type": "code",
   "execution_count": 6,
   "id": "9f8376eb-a9f5-4066-9c21-1831ad8c87b4",
   "metadata": {},
   "outputs": [],
   "source": [
    "monkey_dict = dict()\n",
    "for m in data:\n",
    "    monkey =dict()\n",
    "    items = m[1].split(\":\")[1].strip()\n",
    "    items = [int(i) for i in items.split(\", \")]\n",
    "    monkey[\"items\"] = items\n",
    "    monkey[\"operation\"] = m[2].split(\"=\")[1].strip()\n",
    "    monkey[\"test\"] = int(m[3].split(\" \")[-1].strip())\n",
    "    monkey[\"True\"] = int(m[4].split(\" \")[-1].strip())\n",
    "    monkey[\"False\"] = int(m[5].split(\" \")[-1].strip())\n",
    "    monkey[\"inspected\"] = 0\n",
    "    monkey_dict[int(m[0].split(\" \")[1].replace(\":\",\"\").strip())] = monkey\n"
   ]
  },
  {
   "cell_type": "code",
   "execution_count": 7,
   "id": "c6071cfb-609a-45cb-b4df-df3b972dfb77",
   "metadata": {},
   "outputs": [
    {
     "name": "stdout",
     "output_type": "stream",
     "text": [
      "25712998901\n",
      "CPU times: user 1.74 s, sys: 6.65 ms, total: 1.74 s\n",
      "Wall time: 1.75 s\n"
     ]
    }
   ],
   "source": [
    "%%time\n",
    "#Part 2\n",
    "for i in range(0,10000):\n",
    "    excute_round(False,True)\n",
    "level = sorted([m[\"inspected\"] for m in monkey_dict.values()])\n",
    "print(level[-1]*level[-2])"
   ]
  },
  {
   "cell_type": "code",
   "execution_count": null,
   "id": "70384269-e679-49bd-b53b-a0328d4280a5",
   "metadata": {},
   "outputs": [],
   "source": []
  }
 ],
 "metadata": {
  "kernelspec": {
   "display_name": "Python 3 (ipykernel)",
   "language": "python",
   "name": "python3"
  },
  "language_info": {
   "codemirror_mode": {
    "name": "ipython",
    "version": 3
   },
   "file_extension": ".py",
   "mimetype": "text/x-python",
   "name": "python",
   "nbconvert_exporter": "python",
   "pygments_lexer": "ipython3",
   "version": "3.9.12"
  }
 },
 "nbformat": 4,
 "nbformat_minor": 5
}
