{
 "cells": [
  {
   "cell_type": "code",
   "execution_count": 1,
   "id": "080fe5c6-8175-4d9f-8894-604c8a51fc9d",
   "metadata": {},
   "outputs": [],
   "source": [
    "with open(\"day3.txt\") as file:\n",
    "    data = file.read().split(\"\\n\")"
   ]
  },
  {
   "cell_type": "code",
   "execution_count": 2,
   "id": "78a8ac4a-a9df-4513-92db-64e389fba3a9",
   "metadata": {},
   "outputs": [],
   "source": [
    "import string"
   ]
  },
  {
   "cell_type": "code",
   "execution_count": 3,
   "id": "a592a667-e3d1-46b5-bb52-7844433eeebd",
   "metadata": {},
   "outputs": [],
   "source": [
    "#part1\n",
    "priorities = dict()\n",
    "for i,n in enumerate(string.ascii_lowercase):\n",
    "    priorities[n] = i+1\n",
    "for i,n in enumerate(string.ascii_lowercase):\n",
    "    priorities[n.upper()] = i+1+26\n"
   ]
  },
  {
   "cell_type": "code",
   "execution_count": 7,
   "id": "712ad945-a4f2-4afe-a295-ee656dfcd374",
   "metadata": {
    "tags": []
   },
   "outputs": [
    {
     "name": "stdout",
     "output_type": "stream",
     "text": [
      "CPU times: user 1.28 ms, sys: 5 µs, total: 1.29 ms\n",
      "Wall time: 1.29 ms\n"
     ]
    },
    {
     "data": {
      "text/plain": [
       "7428"
      ]
     },
     "execution_count": 7,
     "metadata": {},
     "output_type": "execute_result"
    }
   ],
   "source": [
    "\n",
    "%%time\n",
    "priorities_sum = 0\n",
    "for code in data:\n",
    "    cut =  int(len(code)/2)\n",
    "    \n",
    "    shared = list(set(list(code[:cut])).intersection(list(set(code[cut:]))))[0]\n",
    "    priorities_sum += priorities[shared]\n",
    "priorities_sum\n"
   ]
  },
  {
   "cell_type": "code",
   "execution_count": null,
   "id": "e4c43d01-c0ca-43cd-bb14-251436938317",
   "metadata": {},
   "outputs": [],
   "source": [
    "#part 2"
   ]
  },
  {
   "cell_type": "code",
   "execution_count": 10,
   "id": "a82967db-e9fd-4cf0-b9b2-5bb77b398030",
   "metadata": {},
   "outputs": [
    {
     "name": "stdout",
     "output_type": "stream",
     "text": [
      "CPU times: user 958 µs, sys: 3 µs, total: 961 µs\n",
      "Wall time: 964 µs\n"
     ]
    },
    {
     "data": {
      "text/plain": [
       "2650"
      ]
     },
     "execution_count": 10,
     "metadata": {},
     "output_type": "execute_result"
    }
   ],
   "source": [
    "%%time\n",
    "priorities_sum = 0\n",
    "\n",
    "set_list = list()\n",
    "for code in data:\n",
    "    if len(set_list)!= 3:\n",
    "        set_list.append(set(list(code)))\n",
    "        \n",
    "    if len(set_list)== 3:\n",
    "        prio = set.intersection(*set_list)\n",
    "        priorities_sum += priorities[list(prio)[0]] \n",
    "        set_list = list()\n",
    "priorities_sum "
   ]
  },
  {
   "cell_type": "code",
   "execution_count": null,
   "id": "b96e8b98-8db5-4c16-9ffb-28a37c837038",
   "metadata": {},
   "outputs": [],
   "source": []
  },
  {
   "cell_type": "code",
   "execution_count": null,
   "id": "75a558a4-c169-48c1-8c6e-18540665a399",
   "metadata": {},
   "outputs": [],
   "source": []
  },
  {
   "cell_type": "code",
   "execution_count": null,
   "id": "651aa721-41e5-44dd-91d5-c81638e24ce8",
   "metadata": {},
   "outputs": [],
   "source": []
  }
 ],
 "metadata": {
  "kernelspec": {
   "display_name": "Python 3 (ipykernel)",
   "language": "python",
   "name": "python3"
  },
  "language_info": {
   "codemirror_mode": {
    "name": "ipython",
    "version": 3
   },
   "file_extension": ".py",
   "mimetype": "text/x-python",
   "name": "python",
   "nbconvert_exporter": "python",
   "pygments_lexer": "ipython3",
   "version": "3.9.12"
  }
 },
 "nbformat": 4,
 "nbformat_minor": 5
}
