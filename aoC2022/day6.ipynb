{
 "cells": [
  {
   "cell_type": "code",
   "execution_count": 1,
   "id": "a2bd5e4a-b2c4-4d0b-85bf-3f5b2d6a521b",
   "metadata": {},
   "outputs": [],
   "source": [
    "with open(\"day6.txt\") as file:\n",
    "    data = list(file.read())"
   ]
  },
  {
   "cell_type": "code",
   "execution_count": 2,
   "id": "0f7226ec-4f3f-451a-b3fa-5ca78a550b11",
   "metadata": {},
   "outputs": [
    {
     "name": "stdout",
     "output_type": "stream",
     "text": [
      "marker: gpfj\n",
      "character N°: 1896\n",
      "CPU times: user 2.85 ms, sys: 481 µs, total: 3.34 ms\n",
      "Wall time: 3 ms\n"
     ]
    }
   ],
   "source": [
    "%%time\n",
    "#part 1\n",
    "marker = set()\n",
    "start = 0\n",
    "end = 3\n",
    "while end<len(data):\n",
    "    marker = set(data[start:end+1])\n",
    "    if len(marker)==4:\n",
    "        print(\"marker:\",\"\".join(data[start:end+1]))\n",
    "        print(\"character N°:\",end+1)\n",
    "        break\n",
    "    start+=1\n",
    "    end+=1"
   ]
  },
  {
   "cell_type": "code",
   "execution_count": 3,
   "id": "e573ead2-2bac-4668-9511-4f7aa98daa24",
   "metadata": {},
   "outputs": [
    {
     "name": "stdout",
     "output_type": "stream",
     "text": [
      "marker: ptdslnzwcjgmvb\n",
      "character N°: 3452\n",
      "CPU times: user 5.51 ms, sys: 744 µs, total: 6.26 ms\n",
      "Wall time: 5.6 ms\n"
     ]
    }
   ],
   "source": [
    "%%time\n",
    "#part2\n",
    "marker = set()\n",
    "start = 0\n",
    "end = 13\n",
    "while end<len(data):\n",
    "    marker = set(data[start:end+1])\n",
    "    if len(marker)==14:\n",
    "        print(\"marker:\",\"\".join(data[start:end+1]))\n",
    "        print(\"character N°:\",end+1)\n",
    "        break\n",
    "    start+=1\n",
    "    end+=1"
   ]
  }
 ],
 "metadata": {
  "kernelspec": {
   "display_name": "Python 3 (ipykernel)",
   "language": "python",
   "name": "python3"
  },
  "language_info": {
   "codemirror_mode": {
    "name": "ipython",
    "version": 3
   },
   "file_extension": ".py",
   "mimetype": "text/x-python",
   "name": "python",
   "nbconvert_exporter": "python",
   "pygments_lexer": "ipython3",
   "version": "3.9.12"
  }
 },
 "nbformat": 4,
 "nbformat_minor": 5
}
