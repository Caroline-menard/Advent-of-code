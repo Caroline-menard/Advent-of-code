{
 "cells": [
  {
   "cell_type": "code",
   "execution_count": 29,
   "id": "51f443c5-3e9b-48f6-9a19-f68fb19c8e32",
   "metadata": {},
   "outputs": [],
   "source": [
    "with open(\"day1.txt\") as file:\n",
    "    data_original = file.read().split(\"\\n\")\n"
   ]
  },
  {
   "cell_type": "code",
   "execution_count": 30,
   "id": "51714813-7a1b-4ce3-b6b7-a1c544e5b4e6",
   "metadata": {},
   "outputs": [
    {
     "data": {
      "text/plain": [
       "69883"
      ]
     },
     "execution_count": 30,
     "metadata": {},
     "output_type": "execute_result"
    }
   ],
   "source": [
    "#part 1\n",
    "max_cal = 0\n",
    "current_cal = 0\n",
    "for i in data_original:\n",
    "    try:\n",
    "        i = int(i)\n",
    "        current_cal +=i\n",
    "    except:\n",
    "        if current_cal>max_cal:\n",
    "            max_cal=current_cal\n",
    "        current_cal=0\n",
    "max_cal"
   ]
  },
  {
   "cell_type": "code",
   "execution_count": 31,
   "id": "48d867ab-6770-4145-8d21-1726f1f9b05e",
   "metadata": {
    "tags": []
   },
   "outputs": [
    {
     "name": "stdout",
     "output_type": "stream",
     "text": [
      "207576\n"
     ]
    }
   ],
   "source": [
    "#part 2\n",
    "cal_list = list()\n",
    "max_cal = 0\n",
    "current_cal = 0\n",
    "for i in data_original:\n",
    "    try:\n",
    "        i = int(i)\n",
    "        current_cal +=i\n",
    "    except:\n",
    "        if current_cal>max_cal:\n",
    "            max_cal=current_cal\n",
    "        cal_list.append(current_cal)\n",
    "        current_cal=0\n",
    "cal_list =sorted(cal_list, reverse=True)\n",
    "print(cal_list[0]+cal_list[1]+cal_list[2])\n"
   ]
  }
 ],
 "metadata": {
  "kernelspec": {
   "display_name": "Python 3 (ipykernel)",
   "language": "python",
   "name": "python3"
  },
  "language_info": {
   "codemirror_mode": {
    "name": "ipython",
    "version": 3
   },
   "file_extension": ".py",
   "mimetype": "text/x-python",
   "name": "python",
   "nbconvert_exporter": "python",
   "pygments_lexer": "ipython3",
   "version": "3.9.12"
  }
 },
 "nbformat": 4,
 "nbformat_minor": 5
}
